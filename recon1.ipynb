{
 "cells": [
  {
   "cell_type": "code",
   "execution_count": 1,
   "metadata": {
    "code_folding": [
     0
    ]
   },
   "outputs": [
    {
     "name": "stderr",
     "output_type": "stream",
     "text": [
      "Using TensorFlow backend.\n"
     ]
    }
   ],
   "source": [
    "# All the imports\n",
    "\n",
    "from __future__ import print_function, division\n",
    "import keras\n",
    "from keras.datasets import mnist\n",
    "from keras.layers import Input, Dense, Reshape, Flatten, Dropout, multiply, GaussianNoise\n",
    "from keras.layers import BatchNormalization, Activation, Embedding, ZeroPadding2D\n",
    "from keras.layers import MaxPooling2D, merge\n",
    "from keras.layers.advanced_activations import LeakyReLU\n",
    "from keras.layers.convolutional import UpSampling2D, Conv2D\n",
    "from keras.models import Sequential, Model\n",
    "from keras.optimizers import Adam\n",
    "from keras import losses\n",
    "from keras.utils import to_categorical\n",
    "import keras.backend as K\n",
    "import matplotlib.pyplot as plt\n",
    "import numpy as np\n",
    "import glob\n",
    "\n",
    "from keras import backend as K\n",
    "from keras.layers import Layer\n",
    "\n",
    "import copy\n",
    "\n",
    "import os\n",
    "import skimage.io as io\n",
    "import skimage.transform as trans\n",
    "import numpy as np\n",
    "from keras.models import *\n",
    "from keras.layers import *\n",
    "from keras.optimizers import *\n",
    "from keras.callbacks import ModelCheckpoint, LearningRateScheduler, ReduceLROnPlateau, Callback, TensorBoard\n",
    "from keras import backend as keras\n",
    "\n",
    "from scipy.io import loadmat\n",
    "from scipy.io import savemat\n",
    "\n",
    "from scipy.ndimage import zoom\n",
    "#from scipy.misc import imresize\n",
    "import pywt\n",
    "\n",
    "import csv\n",
    "import random\n",
    "import time\n",
    "%matplotlib inline  \n",
    "\n",
    "import pywt\n",
    "#import hdf5storage\n",
    "\n",
    "import scipy.io as sio\n",
    "from skimage.filters import threshold_otsu\n",
    "\n",
    "#import pylidc as pl\n",
    "#from keras.backend.tensorflow_backend import set_session\n",
    "import tensorflow as tf\n",
    "\n",
    "import pywt\n",
    "import numpy as np\n",
    "#import pydicom\n",
    "import matplotlib.pyplot as plt\n",
    "import SimpleITK as sitk\n",
    "import skimage.io as io\n",
    "#from sklearn.decomposition import PCA\n",
    "import collections, numpy\n",
    "import warnings\n",
    "from scipy import ndimage, misc\n",
    "warnings.filterwarnings('ignore')\n",
    "\n",
    "#import pymrt as mrt\n",
    "#import pymrt.geometry\n",
    "import ipyvolume as ipv\n",
    "import copy\n",
    "\n",
    "\n",
    "\n",
    "\n",
    "#from image_gen import ImageDataGenerator\n",
    "#from load_data import loadDataMontgomery, loadDataJSRT\n",
    "#from build_model import build_UNet2D_4L\n",
    "\n",
    "import pandas as pd\n",
    "from keras.utils.vis_utils import plot_model\n",
    "from keras.callbacks import ModelCheckpoint\n",
    "\n",
    "\n",
    "\n",
    "import numpy\n",
    "import warnings\n",
    "from keras.layers import Convolution3D, Input, merge, RepeatVector, Activation\n",
    "from keras.models import Model\n",
    "from keras.layers.advanced_activations import PReLU\n",
    "from keras import activations, initializers, regularizers\n",
    "from keras.engine import Layer, InputSpec\n",
    "from keras.utils.conv_utils import conv_output_length\n",
    "#from keras.utils.np_utils import conv_output_length\n",
    "from keras.optimizers import Adam\n",
    "from keras.callbacks import ModelCheckpoint\n",
    "import keras.backend as K\n",
    "from keras.engine.topology import Layer\n",
    "import functools\n",
    "import tensorflow as tf\n",
    "import pickle\n",
    "import time"
   ]
  },
  {
   "cell_type": "code",
   "execution_count": 42,
   "metadata": {
    "code_folding": [
     2,
     73,
     153,
     183
    ]
   },
   "outputs": [],
   "source": [
    "# Helper Functions\n",
    "\n",
    "def unet_3d_prelu(input_size = (104, 56, 40, 1)):\n",
    "    \n",
    "    filter1 = 16\n",
    "    filter2 = 32\n",
    "    filter3 = 64\n",
    "    filter4 = 128\n",
    "    \n",
    "    zfilter = 40\n",
    "    \n",
    "    inputs = Input(input_size)\n",
    "    \n",
    "    conv1 = Conv3D(filter1, (3, 3, zfilter), padding = 'same', kernel_initializer = 'he_normal')(inputs)\n",
    "    conv1 = ReLU()(conv1)\n",
    "    conv1 = BatchNormalization()(conv1)\n",
    "    \n",
    "    conv1 = Conv3D(filter1, (3, 3, zfilter), padding = 'same', kernel_initializer = 'he_normal')(conv1)\n",
    "    conv1 = ReLU()(conv1)\n",
    "    conv1 = BatchNormalization()(conv1)\n",
    "    \n",
    "    pool1 = MaxPooling3D(pool_size=(2,2,2))(conv1)\n",
    "    conv2 = Conv3D(filter2, 3,  padding = 'same', kernel_initializer = 'he_normal')(pool1)\n",
    "    conv2 = ReLU()(conv2)\n",
    "    conv2 = BatchNormalization()(conv2)\n",
    "    \n",
    "    pool2 = MaxPooling3D(pool_size=(2, 2,2))(conv2)\n",
    "    conv3 = Conv3D(filter3, 3,  padding = 'same', kernel_initializer = 'he_normal')(pool2)\n",
    "    conv3 = ReLU()(conv3)\n",
    "    conv3 = BatchNormalization()(conv3)\n",
    "    \n",
    "    pool3 = MaxPooling3D(pool_size=(2, 2,2))(conv3)\n",
    "    conv4 = Conv3D(filter3, 3,  padding = 'same', kernel_initializer = 'he_normal')(pool3)\n",
    "    conv4 = ReLU()(conv4)\n",
    "    conv4 = BatchNormalization()(conv4)\n",
    "\n",
    "    up3    = UpSampling3D(size = (2,2,2))(conv4)\n",
    "    merge3 = Add()([up3, conv3])\n",
    "    merge3 = Conv3D(filter2, 3,  padding = 'same', kernel_initializer = 'he_normal')(merge3)\n",
    "    merge3 = ReLU()(merge3)\n",
    "    merge3 = BatchNormalization()(merge3)    \n",
    "    \n",
    "    up2    = UpSampling3D(size = (2,2,2))(merge3)\n",
    "    merge2 = Add()([up2, conv2])\n",
    "    merge2 = Conv3D(filter1, 3,  padding = 'same', kernel_initializer = 'he_normal')(merge2)\n",
    "    merge2 = ReLU()(merge2)\n",
    "    merge2 = BatchNormalization()(merge2)    \n",
    "    \n",
    "    up1    = UpSampling3D(size = (2,2,2))(merge2)\n",
    "    merge1 = Add()([up1, conv1])\n",
    "    merge1 = Conv3D(filter1, (3, 3, zfilter),  padding = 'same', kernel_initializer = 'he_normal')(merge1)\n",
    "    merge1 = ReLU()(merge1)\n",
    "    merge1 = BatchNormalization()(merge1)    \n",
    "    \n",
    "    up7 = Conv3D(filter1, (3, 3, zfilter),  padding = 'same', kernel_initializer = 'he_normal')(merge1)\n",
    "    up7 = ReLU()(up7)\n",
    "    \n",
    "    up7 = Conv3D(filter1, (3, 3, zfilter),  padding = 'same', kernel_initializer = 'he_normal')(merge1)\n",
    "    up7 = ReLU()(up7)\n",
    "    \n",
    "    up7 = Conv3D(filter1, (3, 3, zfilter),  padding = 'same', kernel_initializer = 'he_normal')(merge1)\n",
    "    up7 = ReLU()(up7)\n",
    "    \n",
    "    conv9 = Conv3D(1, 1, padding='same', kernel_initializer = 'he_normal')(up7)\n",
    "    conv9 = ReLU()(conv9)\n",
    "    \n",
    "    model = Model(input = inputs, output = conv9)\n",
    "\n",
    "    model.compile(optimizer = Adam(lr = 0.0001), loss = 'mean_absolute_error', \n",
    "                  metrics = ['mse'])\n",
    "    \n",
    "    return model\n",
    "\n",
    "def unet_3d_prelu2(input_size = (104, 24, 40, 1)):\n",
    "    \n",
    "    filter1 = 16\n",
    "    filter2 = 32\n",
    "    filter3 = 128\n",
    "    \n",
    "    zfilter = 3\n",
    "    \n",
    "    inputs = Input(input_size)\n",
    "    \n",
    "    conv1 = Conv3D(filter1, (3, 3, 3), padding = 'same', kernel_initializer = 'he_normal')(inputs)\n",
    "    conv1 = Dropout(0.1)(conv1)\n",
    "    conv1 = ReLU()(conv1)\n",
    "    conv1 = BatchNormalization()(conv1)\n",
    "    \n",
    "    #conv1 = Conv3D(filter1, (3, 3, zfilter), padding = 'same', kernel_initializer = 'he_normal')(conv1)\n",
    "    #conv1 = ReLU()(conv1)\n",
    "    #conv1 = BatchNormalization()(conv1)\n",
    "    \n",
    "    pool1 = MaxPooling3D(pool_size=(2,2,2))(conv1)\n",
    "    conv2 = Conv3D(filter2, (3, 3, 3),  padding = 'same', kernel_initializer = 'he_normal')(pool1)\n",
    "    conv2 = Dropout(0.1)(conv2)\n",
    "    conv2 = ReLU()(conv2)\n",
    "    conv2 = BatchNormalization()(conv2)\n",
    "    \n",
    "    pool2 = MaxPooling3D(pool_size=(2, 2,2))(conv2)\n",
    "    conv3 = Conv3D(filter3, (3, 3, 10),  padding = 'same', kernel_initializer = 'he_normal')(pool2)\n",
    "    conv3 = Dropout(0.2)(conv3)\n",
    "    conv3 = ReLU()(conv3)\n",
    "    conv3 = BatchNormalization()(conv3)\n",
    "    \n",
    "    pool3 = MaxPooling3D(pool_size=(2, 2,2))(conv3)\n",
    "    conv4 = Conv3D(filter3, (3, 3, 5),  padding = 'same', kernel_initializer = 'he_normal')(pool3)\n",
    "    conv4 = Dropout(0.2)(conv4)\n",
    "    conv4 = ReLU()(conv4)\n",
    "    conv4 = BatchNormalization()(conv4)\n",
    "\n",
    "    up3    = UpSampling3D(size = (2,2,2))(conv4)\n",
    "    merge3 = Concatenate()([up3, conv3])\n",
    "    merge3 = Conv3D(filter2, (3, 3, 10),  padding = 'same', kernel_initializer = 'he_normal')(merge3)\n",
    "    merge3 = Dropout(0.1)(merge3)\n",
    "    merge3 = ReLU()(merge3)\n",
    "    merge3 = BatchNormalization()(merge3)    \n",
    "    \n",
    "    up2    = UpSampling3D(size = (2,2,2))(merge3)\n",
    "    merge2 = Concatenate()([up2, conv2])\n",
    "    merge2 = Conv3D(filter1, 3,  padding = 'same', kernel_initializer = 'he_normal')(merge2)\n",
    "    merge2 = Dropout(0.1)(merge2)\n",
    "    merge2 = ReLU()(merge2)\n",
    "    merge2 = BatchNormalization()(merge2)    \n",
    "    \n",
    "    up1    = UpSampling3D(size = (2,2,2))(merge2)\n",
    "    merge1 = Concatenate()([up1, conv1])\n",
    "    merge1 = Conv3D(filter1, (3, 3, 3),  padding = 'same', kernel_initializer = 'he_normal')(merge1)\n",
    "    merge1 = Dropout(0.1)(merge1)\n",
    "    merge1 = ReLU()(merge1)\n",
    "    #merge1 = BatchNormalization()(merge1)    \n",
    "    \n",
    "#     up7 = Conv3D(filter1, (3, 3, zfilter),  padding = 'same', kernel_initializer = 'he_normal')(merge1)\n",
    "#     up7 = ReLU()(up7)\n",
    "#     up7 = BatchNormalization()(up7)\n",
    "    \n",
    "#     up8 = Conv3D(filter1, (3, 3, zfilter),  padding = 'same', kernel_initializer = 'he_normal')(up7)\n",
    "#     up8 = ReLU()(up8)\n",
    "#     up8 = BatchNormalization()(up8)\n",
    "    \n",
    "#     up8 = Add()([up8, merge1])\n",
    "    \n",
    "#     up9 = Conv3D(filter1, (3, 3, zfilter),  padding = 'same', kernel_initializer = 'he_normal')(up8)\n",
    "#     up9 = ReLU()(up9)\n",
    "    \n",
    "    conv9 = Conv3D(1, 1, padding='same', kernel_initializer = 'he_normal')(merge1)\n",
    "    conv9 = ReLU()(conv9)\n",
    "    \n",
    "    model = Model(input = inputs, output = conv9)\n",
    "\n",
    "    model.compile(optimizer = Adam(lr = 0.0005), loss = 'mean_absolute_error', \n",
    "                  metrics = ['mse'])\n",
    "    return model\n",
    "\n",
    "def unet_3d_prelu1(input_size = (104, 56, 40, 1)):\n",
    "    filter1 = 16\n",
    "    filter2 = 32\n",
    "    filter3 = 64\n",
    "    filter4 = 128\n",
    "    zfilter = 40\n",
    "    \n",
    "    model = load_model('/media/dril/ubuntudata/DBT-NEW/models/model2.h5', compile=False)\n",
    "    x     = model.layers[-3].output\n",
    "    \n",
    "    up7 = Conv3D(filter1, (3, 3, zfilter),  padding = 'same', kernel_initializer = 'he_normal')(x)\n",
    "    up7 = ReLU()(up7)\n",
    "    \n",
    "    up7 = Conv3D(filter1, (3, 3, zfilter),  padding = 'same', kernel_initializer = 'he_normal')(up7)\n",
    "    up7 = ReLU()(up7)\n",
    "    \n",
    "    conv9 = Conv3D(1, 1, padding='same', kernel_initializer = 'he_normal')(up7)\n",
    "    conv9 = ReLU()(conv9)\n",
    "    \n",
    "    model1 = Model(input = model.input, output = conv9)\n",
    "    model1.compile(optimizer = Adam(lr = 0.0001), loss = 'mse', metrics = ['mae'])\n",
    "    \n",
    "    model3 =  load_model('/media/dril/ubuntudata/DBT-NEW/models/model2.h5', compile=False)\n",
    "    \n",
    "    for i in range(len(model3.layers)-2):\n",
    "        if len(model3.layers[i].get_weights()) > 0:\n",
    "            model1.layers[i].set_weights(model3.layers[i].get_weights())\n",
    "    \n",
    "    return model1\n",
    "\n",
    "def bbox2_3D(img):\n",
    "\n",
    "    r = np.any(img, axis=(1, 2))\n",
    "    c = np.any(img, axis=(0, 2))\n",
    "    z = np.any(img, axis=(0, 1))\n",
    "\n",
    "    rmin, rmax = np.where(r)[0][[0, -1]]\n",
    "    cmin, cmax = np.where(c)[0][[0, -1]]\n",
    "    zmin, zmax = np.where(z)[0][[0, -1]]\n",
    "\n",
    "    return rmin, rmax, cmin, cmax, zmin, zmax\n",
    "\n",
    "# For checking if weights are same or not of two networks\n",
    "\n",
    "# for i in range(40):\n",
    "#     w1 = model3.layers[i].get_weights()\n",
    "#     w2 = m2.layers[i].get_weights()\n",
    "    \n",
    "#     for j in range(len(w1)):\n",
    "#         print(i, np.all(w1[j] == w2[j]))"
   ]
  },
  {
   "cell_type": "code",
   "execution_count": null,
   "metadata": {
    "code_folding": [
     0
    ],
    "scrolled": true
   },
   "outputs": [],
   "source": [
    "# For getting the shapes\n",
    "\n",
    "allshapesx = []\n",
    "allshapesy = []\n",
    "allshapesz = []\n",
    "\n",
    "for i in range(1, 177):\n",
    "    a = loadmat('/media/dril/ubuntudata/attenuation_values/'+str(i)+'.mat')\n",
    "    a = a['head']\n",
    "    b = copy.deepcopy(a)\n",
    "    a[a != 0 ] = 1\n",
    "    rmin, rmax, cmin, cmax, zmin, zmax = bbox2_3D(a)\n",
    "    b = b[rmin:rmax, cmin:cmax, zmin:zmax]\n",
    "    \n",
    "    allshapesx.append(b.shape[0])\n",
    "    allshapesy.append(b.shape[1])\n",
    "    allshapesz.append(b.shape[2])\n",
    "    \n",
    "    temp = int((800-b.shape[0])/2)\n",
    "    vol = b\n",
    "    vol = np.pad(b, ((temp, 800-temp-b.shape[0]), (320-b.shape[1], 0), (0, 448-b.shape[2])), \n",
    "                     'constant', constant_values=(0, 0))\n",
    "    vol = np.moveaxis(vol, [1, 2], [2, 1]).astype(np.single)\n",
    "\n",
    "    h = {}\n",
    "    h['head'] = vol\n",
    "    savemat('/media/dril/ubuntudata/attenuation_values_cropped/'+str(i)+'.mat', h,\n",
    "            do_compression=True)\n",
    "    print(i, vol.shape)"
   ]
  },
  {
   "cell_type": "code",
   "execution_count": null,
   "metadata": {},
   "outputs": [],
   "source": [
    "# New size will be 800, 320, 448"
   ]
  },
  {
   "cell_type": "code",
   "execution_count": null,
   "metadata": {
    "code_folding": [
     0
    ]
   },
   "outputs": [],
   "source": [
    "# For reading the data for training the 3D U-Net model\n",
    "\n",
    "trainx = []\n",
    "trainy = []\n",
    "valx   = []\n",
    "valy   = []\n",
    "\n",
    "for i in range(1, 177):\n",
    "    volx = loadmat('/media/dril/ubuntudata/DBT-NEW/recons/sart_cir_zero_'+str(i)+'.mat')\n",
    "    voly = loadmat('/media/dril/ubuntudata/DBT-NEW/attenuation_values_cropped/'+str(i)+'.mat')\n",
    "    \n",
    "    volx = volx['xartt']\n",
    "    voly = voly['head']\n",
    "    \n",
    "    voly = ndimage.zoom(voly, 0.0625, order=1).astype(np.single)\n",
    "    volx = ndimage.zoom(volx, 0.125, order=1).astype(np.single)\n",
    "    \n",
    "    if i <= 140:\n",
    "        trainx.append(np.expand_dims(volx, axis=-1))\n",
    "        trainy.append(np.expand_dims(voly, axis=-1))\n",
    "    else:\n",
    "        valx.append(np.expand_dims(volx,axis=-1))\n",
    "        valy.append(np.expand_dims(voly,axis=-1))\n",
    "\n",
    "trainx = np.array(trainx)\n",
    "trainy = np.array(trainy)\n",
    "valx   = np.array(valx)\n",
    "valy   = np.array(valy)\n",
    "\n",
    "# trainx  = np.pad(trainx, ((0,0), (2, 2), (0, 0), (0, 0), (0, 0)), 'constant', constant_values = (0, 0))\n",
    "# trainy  = np.pad(trainy, ((0,0), (2, 2), (0, 0), (0, 0), (0, 0)), 'constant', constant_values = (0, 0))\n",
    "# valx    = np.pad(valx, ((0,0), (2, 2), (0, 0), (0, 0), (0, 0)), 'constant', constant_values = (0, 0))\n",
    "# valy    = np.pad(valy, ((0,0), (2, 2), (0, 0), (0, 0), (0, 0)), 'constant', constant_values = (0, 0))\n",
    "\n",
    "print(trainx.shape, trainy.shape)\n",
    "print(valx.shape, valy.shape)"
   ]
  },
  {
   "cell_type": "code",
   "execution_count": 41,
   "metadata": {
    "code_folding": [],
    "scrolled": true
   },
   "outputs": [
    {
     "name": "stdout",
     "output_type": "stream",
     "text": [
      "1\n",
      "2\n",
      "3\n",
      "4\n",
      "5\n",
      "6\n",
      "7\n",
      "8\n",
      "9\n",
      "10\n",
      "11\n",
      "12\n",
      "13\n",
      "14\n",
      "15\n",
      "16\n",
      "17\n",
      "18\n",
      "19\n",
      "20\n",
      "21\n",
      "22\n",
      "23\n",
      "24\n",
      "25\n",
      "26\n",
      "27\n",
      "28\n",
      "29\n",
      "30\n",
      "31\n",
      "32\n",
      "33\n",
      "34\n",
      "35\n",
      "36\n",
      "37\n",
      "38\n",
      "39\n",
      "40\n",
      "41\n",
      "42\n",
      "43\n",
      "44\n",
      "45\n",
      "46\n",
      "47\n",
      "48\n",
      "49\n",
      "50\n",
      "51\n",
      "52\n",
      "53\n",
      "54\n",
      "55\n",
      "56\n",
      "57\n",
      "58\n",
      "59\n",
      "60\n",
      "61\n",
      "62\n",
      "63\n",
      "64\n",
      "65\n",
      "66\n",
      "67\n",
      "68\n",
      "69\n",
      "70\n",
      "71\n",
      "72\n",
      "73\n",
      "74\n",
      "75\n",
      "76\n",
      "77\n",
      "78\n",
      "79\n",
      "80\n",
      "81\n",
      "82\n",
      "83\n",
      "84\n",
      "85\n",
      "86\n",
      "87\n",
      "88\n",
      "89\n",
      "90\n",
      "91\n",
      "92\n",
      "93\n",
      "94\n",
      "95\n",
      "96\n",
      "97\n",
      "98\n",
      "99\n",
      "100\n",
      "101\n",
      "102\n",
      "103\n",
      "104\n",
      "105\n",
      "106\n",
      "107\n",
      "108\n",
      "109\n",
      "110\n",
      "111\n",
      "112\n",
      "113\n",
      "114\n",
      "115\n",
      "116\n",
      "117\n",
      "118\n",
      "119\n",
      "120\n",
      "121\n",
      "122\n",
      "123\n",
      "124\n",
      "125\n",
      "126\n",
      "127\n",
      "128\n",
      "129\n",
      "130\n",
      "131\n",
      "132\n",
      "133\n",
      "134\n",
      "135\n",
      "136\n",
      "137\n",
      "138\n",
      "139\n",
      "140\n",
      "141\n",
      "142\n",
      "143\n",
      "144\n",
      "145\n",
      "146\n",
      "147\n",
      "148\n",
      "149\n",
      "150\n",
      "151\n",
      "152\n",
      "153\n",
      "154\n",
      "155\n",
      "156\n",
      "157\n",
      "158\n",
      "159\n",
      "160\n",
      "161\n",
      "162\n",
      "163\n",
      "164\n",
      "165\n",
      "166\n",
      "167\n",
      "168\n",
      "169\n",
      "170\n",
      "171\n",
      "172\n",
      "173\n",
      "174\n",
      "175\n",
      "176\n",
      "(2100, 104, 24, 40, 1) (2100, 104, 24, 40, 1)\n",
      "(540, 104, 24, 40, 1) (540, 104, 24, 40, 1)\n"
     ]
    }
   ],
   "source": [
    "# For reading the data for training the 3D U-Net model in small patches\n",
    "\n",
    "trainx = []\n",
    "trainy = []\n",
    "valx   = []\n",
    "valy   = []\n",
    "\n",
    "for i in range(1, 177):\n",
    "    print(i)\n",
    "    volx = loadmat('/media/dril/ubuntudata/DBT-NEW/recons/sart_cir_zero_'+str(i)+'.mat')\n",
    "    voly = loadmat('/media/dril/ubuntudata/DBT-NEW/attenuation_values_cropped/'+str(i)+'.mat')\n",
    "    \n",
    "    volx = volx['xartt']\n",
    "    voly = voly['head']\n",
    "    \n",
    "    voly = ndimage.zoom(voly, 0.125, order=1).astype(np.single)\n",
    "    volx = ndimage.zoom(volx, 0.250, order=1).astype(np.single)\n",
    "    \n",
    "    #print(volx.shape)\n",
    "    \n",
    "    gap_slice = 2\n",
    "    if i <= 140:\n",
    "        for j in range(5, 35, gap_slice):\n",
    "            x = volx[:, j:j+20, :]\n",
    "            #print(x.shape)\n",
    "            trainx.append(np.expand_dims(x, axis=-1))\n",
    "        \n",
    "        for j in range(5, 35, gap_slice):\n",
    "            y = voly[:, j:j+20, :]\n",
    "            trainy.append(np.expand_dims(y, axis=-1))\n",
    "    else:\n",
    "        for j in range(5, 35, gap_slice):\n",
    "            x = volx[:, j:j+20, :]\n",
    "            valx.append(np.expand_dims(x, axis=-1))\n",
    "        \n",
    "        for j in range(5, 35, gap_slice):\n",
    "            y = voly[:, j:j+20, :]\n",
    "            valy.append(np.expand_dims(y, axis=-1))\n",
    "#         for i in range(0, 81, 20):\n",
    "#             x = volx[i:i+20, :, :]\n",
    "#             valx.append(np.expand_dims(x, axis=-1))\n",
    "        \n",
    "#         for i in range(0, 81, 20):\n",
    "#             y = voly[i:i+20, :, :]\n",
    "#             valy.append(np.expand_dims(y, axis=-1))\n",
    "        \n",
    "trainx = np.array(trainx)\n",
    "trainy = np.array(trainy)\n",
    "valx   = np.array(valx)\n",
    "valy   = np.array(valy)\n",
    "\n",
    "# trainx  = np.pad(trainx, ((0,0), (2, 2), (0, 0), (0, 0), (0, 0)), 'constant', constant_values = (0, 0))\n",
    "# trainy  = np.pad(trainy, ((0,0), (2, 2), (0, 0), (0, 0), (0, 0)), 'constant', constant_values = (0, 0))\n",
    "# valx    = np.pad(valx, ((0,0), (2, 2), (0, 0), (0, 0), (0, 0)), 'constant', constant_values = (0, 0))\n",
    "# valy    = np.pad(valy, ((0,0), (2, 2), (0, 0), (0, 0), (0, 0)), 'constant', constant_values = (0, 0))\n",
    "\n",
    "trainx  = np.pad(trainx, ((0,0), (2, 2), (2, 2), (0, 0), (0, 0)), 'constant', constant_values = (0, 0))\n",
    "trainy  = np.pad(trainy, ((0,0), (2, 2), (2, 2), (0, 0), (0, 0)), 'constant', constant_values = (0, 0))\n",
    "valx    = np.pad(valx, ((0,0), (2, 2), (2, 2),  (0, 0), (0, 0)), 'constant', constant_values = (0, 0))\n",
    "valy    = np.pad(valy, ((0,0), (2, 2), (2, 2), (0, 0), (0, 0)), 'constant', constant_values = (0, 0))\n",
    "\n",
    "\n",
    "print(trainx.shape, trainy.shape)\n",
    "print(valx.shape, valy.shape)"
   ]
  },
  {
   "cell_type": "code",
   "execution_count": 43,
   "metadata": {},
   "outputs": [
    {
     "name": "stdout",
     "output_type": "stream",
     "text": [
      "__________________________________________________________________________________________________\n",
      "Layer (type)                    Output Shape         Param #     Connected to                     \n",
      "==================================================================================================\n",
      "input_3 (InputLayer)            (None, 104, 24, 40,  0                                            \n",
      "__________________________________________________________________________________________________\n",
      "conv3d_9 (Conv3D)               (None, 104, 24, 40,  448         input_3[0][0]                    \n",
      "__________________________________________________________________________________________________\n",
      "dropout_9 (Dropout)             (None, 104, 24, 40,  0           conv3d_9[0][0]                   \n",
      "__________________________________________________________________________________________________\n",
      "re_lu_9 (ReLU)                  (None, 104, 24, 40,  0           dropout_9[0][0]                  \n",
      "__________________________________________________________________________________________________\n",
      "batch_normalization_9 (BatchNor (None, 104, 24, 40,  64          re_lu_9[0][0]                    \n",
      "__________________________________________________________________________________________________\n",
      "max_pooling3d_7 (MaxPooling3D)  (None, 52, 12, 20, 1 0           batch_normalization_9[0][0]      \n",
      "__________________________________________________________________________________________________\n",
      "conv3d_10 (Conv3D)              (None, 52, 12, 20, 3 13856       max_pooling3d_7[0][0]            \n",
      "__________________________________________________________________________________________________\n",
      "dropout_10 (Dropout)            (None, 52, 12, 20, 3 0           conv3d_10[0][0]                  \n",
      "__________________________________________________________________________________________________\n",
      "re_lu_10 (ReLU)                 (None, 52, 12, 20, 3 0           dropout_10[0][0]                 \n",
      "__________________________________________________________________________________________________\n",
      "batch_normalization_10 (BatchNo (None, 52, 12, 20, 3 128         re_lu_10[0][0]                   \n",
      "__________________________________________________________________________________________________\n",
      "max_pooling3d_8 (MaxPooling3D)  (None, 26, 6, 10, 32 0           batch_normalization_10[0][0]     \n",
      "__________________________________________________________________________________________________\n",
      "conv3d_11 (Conv3D)              (None, 26, 6, 10, 12 368768      max_pooling3d_8[0][0]            \n",
      "__________________________________________________________________________________________________\n",
      "dropout_11 (Dropout)            (None, 26, 6, 10, 12 0           conv3d_11[0][0]                  \n",
      "__________________________________________________________________________________________________\n",
      "re_lu_11 (ReLU)                 (None, 26, 6, 10, 12 0           dropout_11[0][0]                 \n",
      "__________________________________________________________________________________________________\n",
      "batch_normalization_11 (BatchNo (None, 26, 6, 10, 12 512         re_lu_11[0][0]                   \n",
      "__________________________________________________________________________________________________\n",
      "max_pooling3d_9 (MaxPooling3D)  (None, 13, 3, 5, 128 0           batch_normalization_11[0][0]     \n",
      "__________________________________________________________________________________________________\n",
      "conv3d_12 (Conv3D)              (None, 13, 3, 5, 128 737408      max_pooling3d_9[0][0]            \n",
      "__________________________________________________________________________________________________\n",
      "dropout_12 (Dropout)            (None, 13, 3, 5, 128 0           conv3d_12[0][0]                  \n",
      "__________________________________________________________________________________________________\n",
      "re_lu_12 (ReLU)                 (None, 13, 3, 5, 128 0           dropout_12[0][0]                 \n",
      "__________________________________________________________________________________________________\n",
      "batch_normalization_12 (BatchNo (None, 13, 3, 5, 128 512         re_lu_12[0][0]                   \n",
      "__________________________________________________________________________________________________\n",
      "up_sampling3d_3 (UpSampling3D)  (None, 26, 6, 10, 12 0           batch_normalization_12[0][0]     \n",
      "__________________________________________________________________________________________________\n",
      "concatenate_3 (Concatenate)     (None, 26, 6, 10, 25 0           up_sampling3d_3[0][0]            \n",
      "                                                                 batch_normalization_11[0][0]     \n",
      "__________________________________________________________________________________________________\n",
      "conv3d_13 (Conv3D)              (None, 26, 6, 10, 32 737312      concatenate_3[0][0]              \n",
      "__________________________________________________________________________________________________\n",
      "dropout_13 (Dropout)            (None, 26, 6, 10, 32 0           conv3d_13[0][0]                  \n",
      "__________________________________________________________________________________________________\n",
      "re_lu_13 (ReLU)                 (None, 26, 6, 10, 32 0           dropout_13[0][0]                 \n",
      "__________________________________________________________________________________________________\n",
      "batch_normalization_13 (BatchNo (None, 26, 6, 10, 32 128         re_lu_13[0][0]                   \n",
      "__________________________________________________________________________________________________\n",
      "up_sampling3d_4 (UpSampling3D)  (None, 52, 12, 20, 3 0           batch_normalization_13[0][0]     \n",
      "__________________________________________________________________________________________________\n",
      "concatenate_4 (Concatenate)     (None, 52, 12, 20, 6 0           up_sampling3d_4[0][0]            \n",
      "                                                                 batch_normalization_10[0][0]     \n",
      "__________________________________________________________________________________________________\n",
      "conv3d_14 (Conv3D)              (None, 52, 12, 20, 1 27664       concatenate_4[0][0]              \n",
      "__________________________________________________________________________________________________\n",
      "dropout_14 (Dropout)            (None, 52, 12, 20, 1 0           conv3d_14[0][0]                  \n",
      "__________________________________________________________________________________________________\n",
      "re_lu_14 (ReLU)                 (None, 52, 12, 20, 1 0           dropout_14[0][0]                 \n",
      "__________________________________________________________________________________________________\n",
      "batch_normalization_14 (BatchNo (None, 52, 12, 20, 1 64          re_lu_14[0][0]                   \n",
      "__________________________________________________________________________________________________\n",
      "up_sampling3d_5 (UpSampling3D)  (None, 104, 24, 40,  0           batch_normalization_14[0][0]     \n",
      "__________________________________________________________________________________________________\n",
      "concatenate_5 (Concatenate)     (None, 104, 24, 40,  0           up_sampling3d_5[0][0]            \n",
      "                                                                 batch_normalization_9[0][0]      \n",
      "__________________________________________________________________________________________________\n",
      "conv3d_15 (Conv3D)              (None, 104, 24, 40,  13840       concatenate_5[0][0]              \n",
      "__________________________________________________________________________________________________\n",
      "dropout_15 (Dropout)            (None, 104, 24, 40,  0           conv3d_15[0][0]                  \n",
      "__________________________________________________________________________________________________\n",
      "re_lu_15 (ReLU)                 (None, 104, 24, 40,  0           dropout_15[0][0]                 \n",
      "__________________________________________________________________________________________________\n",
      "conv3d_16 (Conv3D)              (None, 104, 24, 40,  17          re_lu_15[0][0]                   \n",
      "__________________________________________________________________________________________________\n",
      "re_lu_16 (ReLU)                 (None, 104, 24, 40,  0           conv3d_16[0][0]                  \n",
      "==================================================================================================\n",
      "Total params: 1,900,721\n",
      "Trainable params: 1,900,017\n",
      "Non-trainable params: 704\n",
      "__________________________________________________________________________________________________\n",
      "None\n"
     ]
    },
    {
     "name": "stdout",
     "output_type": "stream",
     "text": [
      "Train on 2100 samples, validate on 540 samples\n",
      "Epoch 1/1500\n",
      "2100/2100 [==============================] - 43s 21ms/step - loss: 0.0566 - mean_squared_error: 0.0199 - val_loss: 0.0378 - val_mean_squared_error: 0.0143\n",
      "Epoch 2/1500\n",
      "2100/2100 [==============================] - 39s 19ms/step - loss: 0.0378 - mean_squared_error: 0.0106 - val_loss: 0.0328 - val_mean_squared_error: 0.0103\n",
      "Epoch 3/1500\n",
      "2100/2100 [==============================] - 39s 19ms/step - loss: 0.0305 - mean_squared_error: 0.0081 - val_loss: 0.0281 - val_mean_squared_error: 0.0092\n",
      "Epoch 4/1500\n",
      "2100/2100 [==============================] - 36s 17ms/step - loss: 0.0259 - mean_squared_error: 0.0070 - val_loss: 0.0226 - val_mean_squared_error: 0.0071\n",
      "Epoch 5/1500\n",
      "2100/2100 [==============================] - 31s 15ms/step - loss: 0.0225 - mean_squared_error: 0.0063 - val_loss: 0.0200 - val_mean_squared_error: 0.0063\n",
      "Epoch 6/1500\n",
      "2100/2100 [==============================] - 30s 14ms/step - loss: 0.0207 - mean_squared_error: 0.0059 - val_loss: 0.0208 - val_mean_squared_error: 0.0071\n",
      "Epoch 7/1500\n",
      "2100/2100 [==============================] - 30s 14ms/step - loss: 0.0199 - mean_squared_error: 0.0056 - val_loss: 0.0198 - val_mean_squared_error: 0.0064\n",
      "Epoch 8/1500\n",
      "2100/2100 [==============================] - 30s 14ms/step - loss: 0.0192 - mean_squared_error: 0.0053 - val_loss: 0.0189 - val_mean_squared_error: 0.0058\n",
      "Epoch 9/1500\n",
      "2100/2100 [==============================] - 30s 14ms/step - loss: 0.0188 - mean_squared_error: 0.0051 - val_loss: 0.0196 - val_mean_squared_error: 0.0064\n",
      "Epoch 10/1500\n",
      "2100/2100 [==============================] - 30s 14ms/step - loss: 0.0183 - mean_squared_error: 0.0049 - val_loss: 0.0187 - val_mean_squared_error: 0.0056\n",
      "\n",
      "Epoch 00010: val_loss improved from inf to 0.01870, saving model to /media/dril/ubuntudata/DBT-NEW/models/model20-dril.h5\n",
      "Epoch 11/1500\n",
      "2100/2100 [==============================] - 30s 15ms/step - loss: 0.0179 - mean_squared_error: 0.0048 - val_loss: 0.0186 - val_mean_squared_error: 0.0057\n",
      "Epoch 12/1500\n",
      "2100/2100 [==============================] - 30s 14ms/step - loss: 0.0175 - mean_squared_error: 0.0046 - val_loss: 0.0188 - val_mean_squared_error: 0.0058\n",
      "Epoch 13/1500\n",
      "2100/2100 [==============================] - 40s 19ms/step - loss: 0.0172 - mean_squared_error: 0.0045 - val_loss: 0.0200 - val_mean_squared_error: 0.0066\n",
      "Epoch 14/1500\n",
      "2100/2100 [==============================] - 40s 19ms/step - loss: 0.0170 - mean_squared_error: 0.0044 - val_loss: 0.0181 - val_mean_squared_error: 0.0055\n",
      "Epoch 15/1500\n",
      "2100/2100 [==============================] - 40s 19ms/step - loss: 0.0167 - mean_squared_error: 0.0043 - val_loss: 0.0182 - val_mean_squared_error: 0.0056\n",
      "Epoch 16/1500\n",
      "2100/2100 [==============================] - 40s 19ms/step - loss: 0.0165 - mean_squared_error: 0.0042 - val_loss: 0.0183 - val_mean_squared_error: 0.0055\n",
      "Epoch 17/1500\n",
      "2100/2100 [==============================] - 40s 19ms/step - loss: 0.0163 - mean_squared_error: 0.0041 - val_loss: 0.0179 - val_mean_squared_error: 0.0053\n",
      "Epoch 18/1500\n",
      "2100/2100 [==============================] - 40s 19ms/step - loss: 0.0162 - mean_squared_error: 0.0041 - val_loss: 0.0178 - val_mean_squared_error: 0.0054\n",
      "Epoch 19/1500\n",
      "2100/2100 [==============================] - 40s 19ms/step - loss: 0.0161 - mean_squared_error: 0.0041 - val_loss: 0.0184 - val_mean_squared_error: 0.0057\n",
      "Epoch 20/1500\n",
      "2100/2100 [==============================] - 40s 19ms/step - loss: 0.0158 - mean_squared_error: 0.0040 - val_loss: 0.0180 - val_mean_squared_error: 0.0055\n",
      "\n",
      "Epoch 00020: val_loss improved from 0.01870 to 0.01802, saving model to /media/dril/ubuntudata/DBT-NEW/models/model20-dril.h5\n",
      "Epoch 21/1500\n",
      "2100/2100 [==============================] - 40s 19ms/step - loss: 0.0157 - mean_squared_error: 0.0039 - val_loss: 0.0178 - val_mean_squared_error: 0.0053\n",
      "Epoch 22/1500\n",
      "2100/2100 [==============================] - 40s 19ms/step - loss: 0.0156 - mean_squared_error: 0.0039 - val_loss: 0.0178 - val_mean_squared_error: 0.0054\n",
      "Epoch 23/1500\n",
      "2100/2100 [==============================] - 40s 19ms/step - loss: 0.0155 - mean_squared_error: 0.0039 - val_loss: 0.0178 - val_mean_squared_error: 0.0054\n",
      "Epoch 24/1500\n",
      "2100/2100 [==============================] - 40s 19ms/step - loss: 0.0155 - mean_squared_error: 0.0039 - val_loss: 0.0177 - val_mean_squared_error: 0.0053\n",
      "Epoch 25/1500\n",
      "2100/2100 [==============================] - 40s 19ms/step - loss: 0.0153 - mean_squared_error: 0.0038 - val_loss: 0.0178 - val_mean_squared_error: 0.0054\n",
      "Epoch 26/1500\n",
      "2100/2100 [==============================] - 40s 19ms/step - loss: 0.0153 - mean_squared_error: 0.0038 - val_loss: 0.0179 - val_mean_squared_error: 0.0054\n",
      "Epoch 27/1500\n",
      "2100/2100 [==============================] - 40s 19ms/step - loss: 0.0151 - mean_squared_error: 0.0038 - val_loss: 0.0179 - val_mean_squared_error: 0.0055\n",
      "Epoch 28/1500\n",
      "2100/2100 [==============================] - 40s 19ms/step - loss: 0.0151 - mean_squared_error: 0.0037 - val_loss: 0.0179 - val_mean_squared_error: 0.0054\n",
      "Epoch 29/1500\n",
      "2100/2100 [==============================] - 40s 19ms/step - loss: 0.0150 - mean_squared_error: 0.0037 - val_loss: 0.0177 - val_mean_squared_error: 0.0054\n",
      "Epoch 30/1500\n",
      "2100/2100 [==============================] - 40s 19ms/step - loss: 0.0150 - mean_squared_error: 0.0037 - val_loss: 0.0177 - val_mean_squared_error: 0.0054\n",
      "\n",
      "Epoch 00030: val_loss improved from 0.01802 to 0.01771, saving model to /media/dril/ubuntudata/DBT-NEW/models/model20-dril.h5\n",
      "Epoch 31/1500\n",
      "2100/2100 [==============================] - 39s 19ms/step - loss: 0.0148 - mean_squared_error: 0.0036 - val_loss: 0.0177 - val_mean_squared_error: 0.0052\n",
      "Epoch 32/1500\n",
      "2100/2100 [==============================] - 40s 19ms/step - loss: 0.0148 - mean_squared_error: 0.0036 - val_loss: 0.0179 - val_mean_squared_error: 0.0054\n",
      "Epoch 33/1500\n",
      "2100/2100 [==============================] - 39s 19ms/step - loss: 0.0147 - mean_squared_error: 0.0036 - val_loss: 0.0177 - val_mean_squared_error: 0.0054\n",
      "Epoch 34/1500\n",
      "2100/2100 [==============================] - 39s 19ms/step - loss: 0.0147 - mean_squared_error: 0.0036 - val_loss: 0.0176 - val_mean_squared_error: 0.0053\n",
      "Epoch 35/1500\n",
      "2100/2100 [==============================] - 39s 19ms/step - loss: 0.0146 - mean_squared_error: 0.0036 - val_loss: 0.0177 - val_mean_squared_error: 0.0053\n",
      "Epoch 36/1500\n",
      "2100/2100 [==============================] - 39s 19ms/step - loss: 0.0145 - mean_squared_error: 0.0035 - val_loss: 0.0182 - val_mean_squared_error: 0.0055\n",
      "Epoch 37/1500\n",
      "2100/2100 [==============================] - 39s 19ms/step - loss: 0.0145 - mean_squared_error: 0.0035 - val_loss: 0.0178 - val_mean_squared_error: 0.0053\n",
      "Epoch 38/1500\n",
      "2100/2100 [==============================] - 38s 18ms/step - loss: 0.0144 - mean_squared_error: 0.0035 - val_loss: 0.0177 - val_mean_squared_error: 0.0053\n",
      "Epoch 39/1500\n",
      "2100/2100 [==============================] - 37s 18ms/step - loss: 0.0144 - mean_squared_error: 0.0035 - val_loss: 0.0175 - val_mean_squared_error: 0.0053\n",
      "Epoch 40/1500\n",
      "2100/2100 [==============================] - 37s 17ms/step - loss: 0.0145 - mean_squared_error: 0.0035 - val_loss: 0.0176 - val_mean_squared_error: 0.0053\n",
      "\n",
      "Epoch 00040: val_loss improved from 0.01771 to 0.01757, saving model to /media/dril/ubuntudata/DBT-NEW/models/model20-dril.h5\n",
      "Epoch 41/1500\n",
      "2100/2100 [==============================] - 37s 17ms/step - loss: 0.0143 - mean_squared_error: 0.0035 - val_loss: 0.0176 - val_mean_squared_error: 0.0052\n",
      "Epoch 42/1500\n",
      "2100/2100 [==============================] - 37s 17ms/step - loss: 0.0143 - mean_squared_error: 0.0035 - val_loss: 0.0176 - val_mean_squared_error: 0.0053\n",
      "Epoch 43/1500\n",
      "2100/2100 [==============================] - 37s 17ms/step - loss: 0.0143 - mean_squared_error: 0.0034 - val_loss: 0.0176 - val_mean_squared_error: 0.0052\n",
      "Epoch 44/1500\n",
      "2100/2100 [==============================] - 37s 17ms/step - loss: 0.0143 - mean_squared_error: 0.0034 - val_loss: 0.0176 - val_mean_squared_error: 0.0053\n",
      "Epoch 45/1500\n",
      "2100/2100 [==============================] - 37s 18ms/step - loss: 0.0142 - mean_squared_error: 0.0034 - val_loss: 0.0177 - val_mean_squared_error: 0.0054\n",
      "Epoch 46/1500\n"
     ]
    },
    {
     "name": "stdout",
     "output_type": "stream",
     "text": [
      "2100/2100 [==============================] - 37s 18ms/step - loss: 0.0143 - mean_squared_error: 0.0034 - val_loss: 0.0176 - val_mean_squared_error: 0.0053\n",
      "Epoch 47/1500\n",
      "2100/2100 [==============================] - 37s 18ms/step - loss: 0.0142 - mean_squared_error: 0.0034 - val_loss: 0.0174 - val_mean_squared_error: 0.0052\n",
      "Epoch 48/1500\n",
      "2100/2100 [==============================] - 36s 17ms/step - loss: 0.0142 - mean_squared_error: 0.0034 - val_loss: 0.0177 - val_mean_squared_error: 0.0053\n",
      "Epoch 49/1500\n",
      "2100/2100 [==============================] - 35s 17ms/step - loss: 0.0142 - mean_squared_error: 0.0034 - val_loss: 0.0176 - val_mean_squared_error: 0.0054\n",
      "Epoch 50/1500\n",
      "2100/2100 [==============================] - 35s 17ms/step - loss: 0.0142 - mean_squared_error: 0.0034 - val_loss: 0.0176 - val_mean_squared_error: 0.0052\n",
      "\n",
      "Epoch 00050: val_loss did not improve from 0.01757\n",
      "Epoch 51/1500\n",
      "2100/2100 [==============================] - 35s 17ms/step - loss: 0.0141 - mean_squared_error: 0.0033 - val_loss: 0.0174 - val_mean_squared_error: 0.0051\n",
      "Epoch 52/1500\n",
      "2100/2100 [==============================] - 35s 17ms/step - loss: 0.0140 - mean_squared_error: 0.0031 - val_loss: 0.0174 - val_mean_squared_error: 0.0051\n",
      "Epoch 53/1500\n",
      "2100/2100 [==============================] - 35s 17ms/step - loss: 0.0139 - mean_squared_error: 0.0031 - val_loss: 0.0175 - val_mean_squared_error: 0.0052\n",
      "Epoch 54/1500\n",
      "2100/2100 [==============================] - 35s 17ms/step - loss: 0.0138 - mean_squared_error: 0.0030 - val_loss: 0.0174 - val_mean_squared_error: 0.0052\n",
      "Epoch 55/1500\n",
      "2100/2100 [==============================] - 35s 17ms/step - loss: 0.0137 - mean_squared_error: 0.0030 - val_loss: 0.0175 - val_mean_squared_error: 0.0052\n",
      "Epoch 56/1500\n",
      "2100/2100 [==============================] - 35s 17ms/step - loss: 0.0137 - mean_squared_error: 0.0029 - val_loss: 0.0177 - val_mean_squared_error: 0.0053\n",
      "Epoch 57/1500\n",
      "2100/2100 [==============================] - 35s 17ms/step - loss: 0.0136 - mean_squared_error: 0.0029 - val_loss: 0.0176 - val_mean_squared_error: 0.0052\n",
      "Epoch 58/1500\n",
      "2100/2100 [==============================] - 35s 17ms/step - loss: 0.0136 - mean_squared_error: 0.0029 - val_loss: 0.0177 - val_mean_squared_error: 0.0053\n",
      "Epoch 59/1500\n",
      "2100/2100 [==============================] - 35s 17ms/step - loss: 0.0136 - mean_squared_error: 0.0029 - val_loss: 0.0175 - val_mean_squared_error: 0.0051\n",
      "Epoch 60/1500\n",
      "2100/2100 [==============================] - 35s 17ms/step - loss: 0.0136 - mean_squared_error: 0.0029 - val_loss: 0.0177 - val_mean_squared_error: 0.0052\n",
      "\n",
      "Epoch 00060: val_loss did not improve from 0.01757\n",
      "Epoch 61/1500\n",
      "2100/2100 [==============================] - 35s 17ms/step - loss: 0.0136 - mean_squared_error: 0.0028 - val_loss: 0.0176 - val_mean_squared_error: 0.0053\n",
      "Epoch 62/1500\n",
      "2100/2100 [==============================] - 35s 17ms/step - loss: 0.0135 - mean_squared_error: 0.0028 - val_loss: 0.0175 - val_mean_squared_error: 0.0051\n",
      "Epoch 63/1500\n",
      "2100/2100 [==============================] - 35s 17ms/step - loss: 0.0135 - mean_squared_error: 0.0028 - val_loss: 0.0176 - val_mean_squared_error: 0.0051\n",
      "Epoch 64/1500\n",
      "2100/2100 [==============================] - 35s 17ms/step - loss: 0.0135 - mean_squared_error: 0.0028 - val_loss: 0.0173 - val_mean_squared_error: 0.0051\n",
      "Epoch 65/1500\n",
      "2100/2100 [==============================] - 35s 17ms/step - loss: 0.0135 - mean_squared_error: 0.0028 - val_loss: 0.0176 - val_mean_squared_error: 0.0051\n",
      "Epoch 66/1500\n",
      "2100/2100 [==============================] - 35s 17ms/step - loss: 0.0135 - mean_squared_error: 0.0028 - val_loss: 0.0175 - val_mean_squared_error: 0.0051\n",
      "Epoch 67/1500\n",
      "2100/2100 [==============================] - 35s 17ms/step - loss: 0.0134 - mean_squared_error: 0.0028 - val_loss: 0.0175 - val_mean_squared_error: 0.0051\n",
      "Epoch 68/1500\n",
      "2100/2100 [==============================] - 35s 17ms/step - loss: 0.0134 - mean_squared_error: 0.0028 - val_loss: 0.0174 - val_mean_squared_error: 0.0050\n",
      "Epoch 69/1500\n",
      "2100/2100 [==============================] - 35s 17ms/step - loss: 0.0134 - mean_squared_error: 0.0028 - val_loss: 0.0174 - val_mean_squared_error: 0.0051\n",
      "Epoch 70/1500\n",
      "2100/2100 [==============================] - 35s 17ms/step - loss: 0.0134 - mean_squared_error: 0.0028 - val_loss: 0.0174 - val_mean_squared_error: 0.0050\n",
      "\n",
      "Epoch 00070: val_loss improved from 0.01757 to 0.01735, saving model to /media/dril/ubuntudata/DBT-NEW/models/model20-dril.h5\n",
      "Epoch 71/1500\n",
      "2100/2100 [==============================] - 35s 17ms/step - loss: 0.0134 - mean_squared_error: 0.0028 - val_loss: 0.0173 - val_mean_squared_error: 0.0050\n",
      "Epoch 72/1500\n",
      "2100/2100 [==============================] - 35s 17ms/step - loss: 0.0134 - mean_squared_error: 0.0028 - val_loss: 0.0175 - val_mean_squared_error: 0.0051\n",
      "Epoch 73/1500\n",
      "2100/2100 [==============================] - 35s 17ms/step - loss: 0.0133 - mean_squared_error: 0.0027 - val_loss: 0.0174 - val_mean_squared_error: 0.0051\n",
      "Epoch 74/1500\n",
      "2100/2100 [==============================] - 35s 17ms/step - loss: 0.0133 - mean_squared_error: 0.0027 - val_loss: 0.0173 - val_mean_squared_error: 0.0050\n",
      "Epoch 75/1500\n",
      "2100/2100 [==============================] - 35s 17ms/step - loss: 0.0133 - mean_squared_error: 0.0027 - val_loss: 0.0176 - val_mean_squared_error: 0.0051\n",
      "Epoch 76/1500\n",
      "2100/2100 [==============================] - 35s 17ms/step - loss: 0.0133 - mean_squared_error: 0.0027 - val_loss: 0.0173 - val_mean_squared_error: 0.0050\n",
      "Epoch 77/1500\n",
      "2100/2100 [==============================] - 35s 17ms/step - loss: 0.0133 - mean_squared_error: 0.0027 - val_loss: 0.0176 - val_mean_squared_error: 0.0051\n",
      "Epoch 78/1500\n",
      "2100/2100 [==============================] - 35s 17ms/step - loss: 0.0133 - mean_squared_error: 0.0027 - val_loss: 0.0174 - val_mean_squared_error: 0.0051\n",
      "Epoch 79/1500\n",
      "2100/2100 [==============================] - 35s 17ms/step - loss: 0.0133 - mean_squared_error: 0.0027 - val_loss: 0.0173 - val_mean_squared_error: 0.0051\n",
      "Epoch 80/1500\n",
      "2100/2100 [==============================] - 35s 17ms/step - loss: 0.0133 - mean_squared_error: 0.0027 - val_loss: 0.0174 - val_mean_squared_error: 0.0051\n",
      "\n",
      "Epoch 00080: val_loss did not improve from 0.01735\n",
      "Epoch 81/1500\n",
      "2100/2100 [==============================] - 35s 17ms/step - loss: 0.0132 - mean_squared_error: 0.0027 - val_loss: 0.0174 - val_mean_squared_error: 0.0051\n",
      "Epoch 82/1500\n",
      "2100/2100 [==============================] - 35s 17ms/step - loss: 0.0133 - mean_squared_error: 0.0027 - val_loss: 0.0174 - val_mean_squared_error: 0.0050\n",
      "Epoch 83/1500\n",
      "2100/2100 [==============================] - 35s 17ms/step - loss: 0.0132 - mean_squared_error: 0.0027 - val_loss: 0.0173 - val_mean_squared_error: 0.0050\n",
      "Epoch 84/1500\n",
      "2100/2100 [==============================] - 35s 17ms/step - loss: 0.0132 - mean_squared_error: 0.0027 - val_loss: 0.0175 - val_mean_squared_error: 0.0051\n",
      "Epoch 85/1500\n",
      "2100/2100 [==============================] - 35s 17ms/step - loss: 0.0132 - mean_squared_error: 0.0027 - val_loss: 0.0174 - val_mean_squared_error: 0.0051\n",
      "Epoch 86/1500\n",
      "2100/2100 [==============================] - 35s 17ms/step - loss: 0.0132 - mean_squared_error: 0.0027 - val_loss: 0.0172 - val_mean_squared_error: 0.0050\n",
      "Epoch 87/1500\n",
      "2100/2100 [==============================] - 35s 17ms/step - loss: 0.0132 - mean_squared_error: 0.0027 - val_loss: 0.0173 - val_mean_squared_error: 0.0050\n",
      "Epoch 88/1500\n",
      "2100/2100 [==============================] - 35s 17ms/step - loss: 0.0132 - mean_squared_error: 0.0027 - val_loss: 0.0174 - val_mean_squared_error: 0.0051\n",
      "Epoch 89/1500\n",
      "2100/2100 [==============================] - 35s 17ms/step - loss: 0.0132 - mean_squared_error: 0.0027 - val_loss: 0.0173 - val_mean_squared_error: 0.0050\n",
      "Epoch 90/1500\n",
      "2100/2100 [==============================] - 35s 17ms/step - loss: 0.0131 - mean_squared_error: 0.0026 - val_loss: 0.0177 - val_mean_squared_error: 0.0052\n",
      "\n",
      "Epoch 00090: val_loss did not improve from 0.01735\n",
      "Epoch 91/1500\n",
      "2100/2100 [==============================] - 35s 17ms/step - loss: 0.0132 - mean_squared_error: 0.0026 - val_loss: 0.0176 - val_mean_squared_error: 0.0052\n",
      "Epoch 92/1500\n"
     ]
    },
    {
     "name": "stdout",
     "output_type": "stream",
     "text": [
      "2100/2100 [==============================] - 35s 17ms/step - loss: 0.0131 - mean_squared_error: 0.0026 - val_loss: 0.0172 - val_mean_squared_error: 0.0050\n",
      "Epoch 93/1500\n",
      "2100/2100 [==============================] - 35s 17ms/step - loss: 0.0131 - mean_squared_error: 0.0026 - val_loss: 0.0174 - val_mean_squared_error: 0.0050\n",
      "Epoch 94/1500\n",
      "2100/2100 [==============================] - 35s 17ms/step - loss: 0.0131 - mean_squared_error: 0.0026 - val_loss: 0.0173 - val_mean_squared_error: 0.0050\n",
      "Epoch 95/1500\n",
      "2100/2100 [==============================] - 39s 19ms/step - loss: 0.0131 - mean_squared_error: 0.0026 - val_loss: 0.0173 - val_mean_squared_error: 0.0050\n",
      "Epoch 96/1500\n",
      "2100/2100 [==============================] - 36s 17ms/step - loss: 0.0131 - mean_squared_error: 0.0026 - val_loss: 0.0174 - val_mean_squared_error: 0.0050\n",
      "Epoch 97/1500\n",
      "2100/2100 [==============================] - 36s 17ms/step - loss: 0.0131 - mean_squared_error: 0.0026 - val_loss: 0.0174 - val_mean_squared_error: 0.0051\n",
      "Epoch 98/1500\n",
      "2100/2100 [==============================] - 36s 17ms/step - loss: 0.0131 - mean_squared_error: 0.0026 - val_loss: 0.0172 - val_mean_squared_error: 0.0050\n",
      "Epoch 99/1500\n",
      "2100/2100 [==============================] - 36s 17ms/step - loss: 0.0131 - mean_squared_error: 0.0026 - val_loss: 0.0172 - val_mean_squared_error: 0.0050\n",
      "Epoch 100/1500\n",
      "2100/2100 [==============================] - 36s 17ms/step - loss: 0.0130 - mean_squared_error: 0.0026 - val_loss: 0.0174 - val_mean_squared_error: 0.0050\n",
      "\n",
      "Epoch 00100: val_loss did not improve from 0.01735\n",
      "Epoch 101/1500\n",
      "2100/2100 [==============================] - 36s 17ms/step - loss: 0.0131 - mean_squared_error: 0.0026 - val_loss: 0.0173 - val_mean_squared_error: 0.0050\n",
      "Epoch 102/1500\n",
      "2100/2100 [==============================] - 36s 17ms/step - loss: 0.0131 - mean_squared_error: 0.0026 - val_loss: 0.0173 - val_mean_squared_error: 0.0051\n",
      "Epoch 103/1500\n",
      "2100/2100 [==============================] - 36s 17ms/step - loss: 0.0131 - mean_squared_error: 0.0026 - val_loss: 0.0176 - val_mean_squared_error: 0.0052\n",
      "Epoch 104/1500\n",
      "2100/2100 [==============================] - 36s 17ms/step - loss: 0.0130 - mean_squared_error: 0.0026 - val_loss: 0.0172 - val_mean_squared_error: 0.0051\n",
      "Epoch 105/1500\n",
      "2100/2100 [==============================] - 36s 17ms/step - loss: 0.0130 - mean_squared_error: 0.0026 - val_loss: 0.0175 - val_mean_squared_error: 0.0050\n",
      "Epoch 106/1500\n",
      "2100/2100 [==============================] - 36s 17ms/step - loss: 0.0130 - mean_squared_error: 0.0026 - val_loss: 0.0178 - val_mean_squared_error: 0.0052\n",
      "Epoch 107/1500\n",
      "2100/2100 [==============================] - 36s 17ms/step - loss: 0.0130 - mean_squared_error: 0.0026 - val_loss: 0.0173 - val_mean_squared_error: 0.0051\n",
      "Epoch 108/1500\n",
      "2100/2100 [==============================] - 36s 17ms/step - loss: 0.0130 - mean_squared_error: 0.0026 - val_loss: 0.0173 - val_mean_squared_error: 0.0050\n",
      "Epoch 109/1500\n",
      "2100/2100 [==============================] - 36s 17ms/step - loss: 0.0130 - mean_squared_error: 0.0026 - val_loss: 0.0174 - val_mean_squared_error: 0.0050\n",
      "Epoch 110/1500\n",
      "2100/2100 [==============================] - 36s 17ms/step - loss: 0.0130 - mean_squared_error: 0.0026 - val_loss: 0.0173 - val_mean_squared_error: 0.0050\n",
      "\n",
      "Epoch 00110: val_loss improved from 0.01735 to 0.01731, saving model to /media/dril/ubuntudata/DBT-NEW/models/model20-dril.h5\n",
      "Epoch 111/1500\n",
      "2100/2100 [==============================] - 36s 17ms/step - loss: 0.0130 - mean_squared_error: 0.0026 - val_loss: 0.0172 - val_mean_squared_error: 0.0050\n",
      "Epoch 112/1500\n",
      "2100/2100 [==============================] - 36s 17ms/step - loss: 0.0130 - mean_squared_error: 0.0026 - val_loss: 0.0176 - val_mean_squared_error: 0.0052\n",
      "Epoch 113/1500\n",
      "2100/2100 [==============================] - 36s 17ms/step - loss: 0.0130 - mean_squared_error: 0.0026 - val_loss: 0.0173 - val_mean_squared_error: 0.0050\n",
      "Epoch 114/1500\n",
      "2100/2100 [==============================] - 36s 17ms/step - loss: 0.0130 - mean_squared_error: 0.0026 - val_loss: 0.0171 - val_mean_squared_error: 0.0049\n",
      "Epoch 115/1500\n",
      "2100/2100 [==============================] - 36s 17ms/step - loss: 0.0130 - mean_squared_error: 0.0026 - val_loss: 0.0176 - val_mean_squared_error: 0.0051\n",
      "Epoch 116/1500\n",
      "2100/2100 [==============================] - 36s 17ms/step - loss: 0.0130 - mean_squared_error: 0.0026 - val_loss: 0.0173 - val_mean_squared_error: 0.0050\n",
      "Epoch 117/1500\n",
      "2100/2100 [==============================] - 36s 17ms/step - loss: 0.0129 - mean_squared_error: 0.0026 - val_loss: 0.0174 - val_mean_squared_error: 0.0051\n",
      "Epoch 118/1500\n",
      "2100/2100 [==============================] - 36s 17ms/step - loss: 0.0129 - mean_squared_error: 0.0026 - val_loss: 0.0173 - val_mean_squared_error: 0.0050\n",
      "Epoch 119/1500\n",
      "2100/2100 [==============================] - 36s 17ms/step - loss: 0.0129 - mean_squared_error: 0.0026 - val_loss: 0.0173 - val_mean_squared_error: 0.0050\n",
      "Epoch 120/1500\n",
      "2100/2100 [==============================] - 36s 17ms/step - loss: 0.0129 - mean_squared_error: 0.0026 - val_loss: 0.0173 - val_mean_squared_error: 0.0050\n",
      "\n",
      "Epoch 00120: val_loss improved from 0.01731 to 0.01727, saving model to /media/dril/ubuntudata/DBT-NEW/models/model20-dril.h5\n",
      "Epoch 121/1500\n",
      "2100/2100 [==============================] - 36s 17ms/step - loss: 0.0129 - mean_squared_error: 0.0025 - val_loss: 0.0176 - val_mean_squared_error: 0.0052\n",
      "Epoch 122/1500\n",
      "2100/2100 [==============================] - 36s 17ms/step - loss: 0.0129 - mean_squared_error: 0.0026 - val_loss: 0.0173 - val_mean_squared_error: 0.0050\n",
      "Epoch 123/1500\n",
      "2100/2100 [==============================] - 36s 17ms/step - loss: 0.0129 - mean_squared_error: 0.0025 - val_loss: 0.0175 - val_mean_squared_error: 0.0051\n",
      "Epoch 124/1500\n",
      "2100/2100 [==============================] - 36s 17ms/step - loss: 0.0129 - mean_squared_error: 0.0025 - val_loss: 0.0172 - val_mean_squared_error: 0.0050\n",
      "Epoch 125/1500\n",
      "2100/2100 [==============================] - 36s 17ms/step - loss: 0.0129 - mean_squared_error: 0.0025 - val_loss: 0.0175 - val_mean_squared_error: 0.0051\n",
      "Epoch 126/1500\n",
      "2100/2100 [==============================] - 36s 17ms/step - loss: 0.0129 - mean_squared_error: 0.0025 - val_loss: 0.0172 - val_mean_squared_error: 0.0050\n",
      "Epoch 127/1500\n",
      "2100/2100 [==============================] - 36s 17ms/step - loss: 0.0129 - mean_squared_error: 0.0025 - val_loss: 0.0175 - val_mean_squared_error: 0.0051\n",
      "Epoch 128/1500\n",
      "2100/2100 [==============================] - 36s 17ms/step - loss: 0.0129 - mean_squared_error: 0.0025 - val_loss: 0.0175 - val_mean_squared_error: 0.0051\n",
      "Epoch 129/1500\n",
      "2100/2100 [==============================] - 36s 17ms/step - loss: 0.0129 - mean_squared_error: 0.0025 - val_loss: 0.0176 - val_mean_squared_error: 0.0052\n",
      "Epoch 130/1500\n",
      "2100/2100 [==============================] - 36s 17ms/step - loss: 0.0129 - mean_squared_error: 0.0025 - val_loss: 0.0173 - val_mean_squared_error: 0.0051\n",
      "\n",
      "Epoch 00130: val_loss did not improve from 0.01727\n",
      "Epoch 131/1500\n",
      "2100/2100 [==============================] - 36s 17ms/step - loss: 0.0129 - mean_squared_error: 0.0025 - val_loss: 0.0175 - val_mean_squared_error: 0.0052\n",
      "Epoch 132/1500\n",
      "2100/2100 [==============================] - 36s 17ms/step - loss: 0.0129 - mean_squared_error: 0.0025 - val_loss: 0.0176 - val_mean_squared_error: 0.0052\n",
      "Epoch 133/1500\n",
      "2100/2100 [==============================] - 36s 17ms/step - loss: 0.0129 - mean_squared_error: 0.0025 - val_loss: 0.0173 - val_mean_squared_error: 0.0051\n",
      "Epoch 134/1500\n",
      "2100/2100 [==============================] - 36s 17ms/step - loss: 0.0129 - mean_squared_error: 0.0025 - val_loss: 0.0175 - val_mean_squared_error: 0.0050\n",
      "Epoch 135/1500\n",
      "2100/2100 [==============================] - 36s 17ms/step - loss: 0.0129 - mean_squared_error: 0.0025 - val_loss: 0.0174 - val_mean_squared_error: 0.0050\n",
      "Epoch 136/1500\n",
      "2100/2100 [==============================] - 36s 17ms/step - loss: 0.0129 - mean_squared_error: 0.0025 - val_loss: 0.0172 - val_mean_squared_error: 0.0050\n",
      "Epoch 137/1500\n",
      "2100/2100 [==============================] - 36s 17ms/step - loss: 0.0129 - mean_squared_error: 0.0025 - val_loss: 0.0176 - val_mean_squared_error: 0.0052\n",
      "Epoch 138/1500\n"
     ]
    },
    {
     "name": "stdout",
     "output_type": "stream",
     "text": [
      "2100/2100 [==============================] - 35s 17ms/step - loss: 0.0128 - mean_squared_error: 0.0025 - val_loss: 0.0174 - val_mean_squared_error: 0.0051\n",
      "Epoch 139/1500\n",
      "2100/2100 [==============================] - 35s 17ms/step - loss: 0.0128 - mean_squared_error: 0.0025 - val_loss: 0.0174 - val_mean_squared_error: 0.0051\n",
      "Epoch 140/1500\n",
      "2100/2100 [==============================] - 35s 17ms/step - loss: 0.0128 - mean_squared_error: 0.0025 - val_loss: 0.0171 - val_mean_squared_error: 0.0050\n",
      "\n",
      "Epoch 00140: val_loss improved from 0.01727 to 0.01714, saving model to /media/dril/ubuntudata/DBT-NEW/models/model20-dril.h5\n",
      "Epoch 141/1500\n",
      "2100/2100 [==============================] - 35s 17ms/step - loss: 0.0128 - mean_squared_error: 0.0025 - val_loss: 0.0172 - val_mean_squared_error: 0.0050\n",
      "Epoch 142/1500\n",
      "2100/2100 [==============================] - 35s 17ms/step - loss: 0.0129 - mean_squared_error: 0.0025 - val_loss: 0.0173 - val_mean_squared_error: 0.0050\n",
      "Epoch 143/1500\n",
      "2100/2100 [==============================] - 35s 17ms/step - loss: 0.0128 - mean_squared_error: 0.0025 - val_loss: 0.0171 - val_mean_squared_error: 0.0049\n",
      "Epoch 144/1500\n",
      "2100/2100 [==============================] - 35s 17ms/step - loss: 0.0128 - mean_squared_error: 0.0025 - val_loss: 0.0175 - val_mean_squared_error: 0.0051\n",
      "Epoch 145/1500\n",
      "2100/2100 [==============================] - 35s 17ms/step - loss: 0.0128 - mean_squared_error: 0.0025 - val_loss: 0.0173 - val_mean_squared_error: 0.0051\n",
      "Epoch 146/1500\n",
      "2100/2100 [==============================] - 35s 17ms/step - loss: 0.0128 - mean_squared_error: 0.0025 - val_loss: 0.0172 - val_mean_squared_error: 0.0049\n",
      "Epoch 147/1500\n",
      "2100/2100 [==============================] - 35s 17ms/step - loss: 0.0128 - mean_squared_error: 0.0025 - val_loss: 0.0172 - val_mean_squared_error: 0.0050\n",
      "Epoch 148/1500\n",
      "2100/2100 [==============================] - 35s 17ms/step - loss: 0.0128 - mean_squared_error: 0.0025 - val_loss: 0.0174 - val_mean_squared_error: 0.0050\n",
      "Epoch 149/1500\n",
      "2100/2100 [==============================] - 35s 17ms/step - loss: 0.0128 - mean_squared_error: 0.0025 - val_loss: 0.0175 - val_mean_squared_error: 0.0051\n",
      "Epoch 150/1500\n",
      "2100/2100 [==============================] - 35s 17ms/step - loss: 0.0128 - mean_squared_error: 0.0025 - val_loss: 0.0172 - val_mean_squared_error: 0.0050\n",
      "\n",
      "Epoch 00150: val_loss did not improve from 0.01714\n",
      "Epoch 151/1500\n",
      "2100/2100 [==============================] - 35s 17ms/step - loss: 0.0128 - mean_squared_error: 0.0025 - val_loss: 0.0173 - val_mean_squared_error: 0.0050\n",
      "Epoch 152/1500\n",
      "2100/2100 [==============================] - 35s 17ms/step - loss: 0.0128 - mean_squared_error: 0.0025 - val_loss: 0.0174 - val_mean_squared_error: 0.0050\n",
      "Epoch 153/1500\n",
      "2100/2100 [==============================] - 35s 17ms/step - loss: 0.0128 - mean_squared_error: 0.0025 - val_loss: 0.0172 - val_mean_squared_error: 0.0049\n",
      "Epoch 154/1500\n",
      "2100/2100 [==============================] - 35s 17ms/step - loss: 0.0128 - mean_squared_error: 0.0025 - val_loss: 0.0173 - val_mean_squared_error: 0.0050\n",
      "Epoch 155/1500\n",
      "2100/2100 [==============================] - 36s 17ms/step - loss: 0.0128 - mean_squared_error: 0.0025 - val_loss: 0.0177 - val_mean_squared_error: 0.0052\n",
      "Epoch 156/1500\n",
      "2100/2100 [==============================] - 36s 17ms/step - loss: 0.0128 - mean_squared_error: 0.0025 - val_loss: 0.0173 - val_mean_squared_error: 0.0050\n",
      "Epoch 157/1500\n",
      "2100/2100 [==============================] - 36s 17ms/step - loss: 0.0127 - mean_squared_error: 0.0025 - val_loss: 0.0172 - val_mean_squared_error: 0.0050\n",
      "Epoch 158/1500\n",
      "2100/2100 [==============================] - 36s 17ms/step - loss: 0.0128 - mean_squared_error: 0.0025 - val_loss: 0.0173 - val_mean_squared_error: 0.0050\n",
      "Epoch 159/1500\n",
      "2100/2100 [==============================] - 36s 17ms/step - loss: 0.0128 - mean_squared_error: 0.0025 - val_loss: 0.0174 - val_mean_squared_error: 0.0051\n",
      "Epoch 160/1500\n",
      "2100/2100 [==============================] - 36s 17ms/step - loss: 0.0128 - mean_squared_error: 0.0025 - val_loss: 0.0176 - val_mean_squared_error: 0.0052\n",
      "\n",
      "Epoch 00160: val_loss did not improve from 0.01714\n",
      "Epoch 161/1500\n",
      "2100/2100 [==============================] - 36s 17ms/step - loss: 0.0127 - mean_squared_error: 0.0025 - val_loss: 0.0173 - val_mean_squared_error: 0.0050\n",
      "Epoch 162/1500\n",
      "2100/2100 [==============================] - 36s 17ms/step - loss: 0.0127 - mean_squared_error: 0.0025 - val_loss: 0.0172 - val_mean_squared_error: 0.0050\n",
      "Epoch 163/1500\n",
      "2100/2100 [==============================] - 36s 17ms/step - loss: 0.0127 - mean_squared_error: 0.0025 - val_loss: 0.0172 - val_mean_squared_error: 0.0050\n",
      "Epoch 164/1500\n",
      "2100/2100 [==============================] - 36s 17ms/step - loss: 0.0127 - mean_squared_error: 0.0025 - val_loss: 0.0172 - val_mean_squared_error: 0.0049\n",
      "Epoch 165/1500\n",
      "2100/2100 [==============================] - 36s 17ms/step - loss: 0.0127 - mean_squared_error: 0.0025 - val_loss: 0.0173 - val_mean_squared_error: 0.0050\n",
      "Epoch 166/1500\n",
      "2100/2100 [==============================] - 36s 17ms/step - loss: 0.0127 - mean_squared_error: 0.0025 - val_loss: 0.0172 - val_mean_squared_error: 0.0050\n",
      "Epoch 167/1500\n",
      "2100/2100 [==============================] - 36s 17ms/step - loss: 0.0127 - mean_squared_error: 0.0025 - val_loss: 0.0170 - val_mean_squared_error: 0.0049\n",
      "Epoch 168/1500\n",
      "2100/2100 [==============================] - 36s 17ms/step - loss: 0.0127 - mean_squared_error: 0.0025 - val_loss: 0.0172 - val_mean_squared_error: 0.0050\n",
      "Epoch 169/1500\n",
      "2100/2100 [==============================] - 36s 17ms/step - loss: 0.0127 - mean_squared_error: 0.0025 - val_loss: 0.0173 - val_mean_squared_error: 0.0050\n",
      "Epoch 170/1500\n",
      "2100/2100 [==============================] - 36s 17ms/step - loss: 0.0127 - mean_squared_error: 0.0025 - val_loss: 0.0172 - val_mean_squared_error: 0.0050\n",
      "\n",
      "Epoch 00170: val_loss did not improve from 0.01714\n",
      "Epoch 171/1500\n",
      "2100/2100 [==============================] - 36s 17ms/step - loss: 0.0127 - mean_squared_error: 0.0025 - val_loss: 0.0173 - val_mean_squared_error: 0.0050\n",
      "Epoch 172/1500\n",
      "2100/2100 [==============================] - 36s 17ms/step - loss: 0.0127 - mean_squared_error: 0.0025 - val_loss: 0.0172 - val_mean_squared_error: 0.0050\n",
      "Epoch 173/1500\n",
      "2100/2100 [==============================] - 36s 17ms/step - loss: 0.0127 - mean_squared_error: 0.0025 - val_loss: 0.0176 - val_mean_squared_error: 0.0051\n",
      "Epoch 174/1500\n",
      "2100/2100 [==============================] - 36s 17ms/step - loss: 0.0127 - mean_squared_error: 0.0025 - val_loss: 0.0174 - val_mean_squared_error: 0.0051\n",
      "Epoch 175/1500\n",
      "2100/2100 [==============================] - 36s 17ms/step - loss: 0.0127 - mean_squared_error: 0.0025 - val_loss: 0.0171 - val_mean_squared_error: 0.0049\n",
      "Epoch 176/1500\n",
      "2100/2100 [==============================] - 36s 17ms/step - loss: 0.0127 - mean_squared_error: 0.0025 - val_loss: 0.0174 - val_mean_squared_error: 0.0051\n",
      "Epoch 177/1500\n",
      "2100/2100 [==============================] - 36s 17ms/step - loss: 0.0127 - mean_squared_error: 0.0025 - val_loss: 0.0173 - val_mean_squared_error: 0.0050\n",
      "Epoch 178/1500\n",
      "2100/2100 [==============================] - 36s 17ms/step - loss: 0.0127 - mean_squared_error: 0.0025 - val_loss: 0.0173 - val_mean_squared_error: 0.0050\n",
      "Epoch 179/1500\n",
      "2100/2100 [==============================] - 36s 17ms/step - loss: 0.0127 - mean_squared_error: 0.0025 - val_loss: 0.0172 - val_mean_squared_error: 0.0049\n",
      "Epoch 180/1500\n",
      "2100/2100 [==============================] - 36s 17ms/step - loss: 0.0127 - mean_squared_error: 0.0024 - val_loss: 0.0172 - val_mean_squared_error: 0.0050\n",
      "\n",
      "Epoch 00180: val_loss did not improve from 0.01714\n",
      "Epoch 181/1500\n",
      "2100/2100 [==============================] - 36s 17ms/step - loss: 0.0127 - mean_squared_error: 0.0024 - val_loss: 0.0173 - val_mean_squared_error: 0.0050\n",
      "Epoch 182/1500\n",
      "2100/2100 [==============================] - 34s 16ms/step - loss: 0.0127 - mean_squared_error: 0.0025 - val_loss: 0.0172 - val_mean_squared_error: 0.0049\n",
      "Epoch 183/1500\n",
      "2100/2100 [==============================] - 34s 16ms/step - loss: 0.0127 - mean_squared_error: 0.0024 - val_loss: 0.0171 - val_mean_squared_error: 0.0049\n",
      "Epoch 184/1500\n"
     ]
    },
    {
     "name": "stdout",
     "output_type": "stream",
     "text": [
      "2100/2100 [==============================] - 33s 16ms/step - loss: 0.0127 - mean_squared_error: 0.0024 - val_loss: 0.0172 - val_mean_squared_error: 0.0049\n",
      "Epoch 185/1500\n",
      "2100/2100 [==============================] - 33s 16ms/step - loss: 0.0127 - mean_squared_error: 0.0024 - val_loss: 0.0173 - val_mean_squared_error: 0.0050\n",
      "Epoch 186/1500\n",
      "2100/2100 [==============================] - 33s 16ms/step - loss: 0.0127 - mean_squared_error: 0.0024 - val_loss: 0.0175 - val_mean_squared_error: 0.0050\n",
      "Epoch 187/1500\n",
      "2100/2100 [==============================] - 33s 16ms/step - loss: 0.0127 - mean_squared_error: 0.0024 - val_loss: 0.0173 - val_mean_squared_error: 0.0051\n",
      "Epoch 188/1500\n",
      "2100/2100 [==============================] - 33s 16ms/step - loss: 0.0127 - mean_squared_error: 0.0024 - val_loss: 0.0173 - val_mean_squared_error: 0.0050\n",
      "Epoch 189/1500\n",
      "2100/2100 [==============================] - 33s 16ms/step - loss: 0.0127 - mean_squared_error: 0.0024 - val_loss: 0.0172 - val_mean_squared_error: 0.0050\n",
      "Epoch 190/1500\n",
      "2100/2100 [==============================] - 33s 16ms/step - loss: 0.0127 - mean_squared_error: 0.0024 - val_loss: 0.0176 - val_mean_squared_error: 0.0052\n",
      "\n",
      "Epoch 00190: val_loss did not improve from 0.01714\n",
      "Epoch 191/1500\n",
      "2100/2100 [==============================] - 33s 16ms/step - loss: 0.0126 - mean_squared_error: 0.0024 - val_loss: 0.0173 - val_mean_squared_error: 0.0051\n",
      "Epoch 192/1500\n",
      "2100/2100 [==============================] - 33s 16ms/step - loss: 0.0126 - mean_squared_error: 0.0024 - val_loss: 0.0172 - val_mean_squared_error: 0.0050\n",
      "Epoch 193/1500\n",
      "2100/2100 [==============================] - 33s 16ms/step - loss: 0.0126 - mean_squared_error: 0.0024 - val_loss: 0.0173 - val_mean_squared_error: 0.0050\n",
      "Epoch 194/1500\n",
      "2100/2100 [==============================] - 33s 16ms/step - loss: 0.0126 - mean_squared_error: 0.0024 - val_loss: 0.0172 - val_mean_squared_error: 0.0050\n",
      "Epoch 195/1500\n",
      "2100/2100 [==============================] - 33s 16ms/step - loss: 0.0126 - mean_squared_error: 0.0024 - val_loss: 0.0173 - val_mean_squared_error: 0.0050\n",
      "Epoch 196/1500\n",
      "2100/2100 [==============================] - 33s 16ms/step - loss: 0.0126 - mean_squared_error: 0.0024 - val_loss: 0.0171 - val_mean_squared_error: 0.0049\n",
      "Epoch 197/1500\n",
      "2100/2100 [==============================] - 33s 16ms/step - loss: 0.0127 - mean_squared_error: 0.0024 - val_loss: 0.0170 - val_mean_squared_error: 0.0049\n",
      "Epoch 198/1500\n",
      "2100/2100 [==============================] - 33s 16ms/step - loss: 0.0126 - mean_squared_error: 0.0024 - val_loss: 0.0172 - val_mean_squared_error: 0.0050\n",
      "Epoch 199/1500\n",
      "2100/2100 [==============================] - 33s 16ms/step - loss: 0.0126 - mean_squared_error: 0.0024 - val_loss: 0.0171 - val_mean_squared_error: 0.0049\n",
      "Epoch 200/1500\n",
      "2100/2100 [==============================] - 33s 16ms/step - loss: 0.0126 - mean_squared_error: 0.0024 - val_loss: 0.0176 - val_mean_squared_error: 0.0052\n",
      "\n",
      "Epoch 00200: val_loss did not improve from 0.01714\n",
      "Epoch 201/1500\n",
      "2100/2100 [==============================] - 34s 16ms/step - loss: 0.0127 - mean_squared_error: 0.0024 - val_loss: 0.0175 - val_mean_squared_error: 0.0051\n",
      "Epoch 202/1500\n",
      "2100/2100 [==============================] - 33s 16ms/step - loss: 0.0126 - mean_squared_error: 0.0024 - val_loss: 0.0175 - val_mean_squared_error: 0.0051\n",
      "Epoch 203/1500\n",
      "2100/2100 [==============================] - 34s 16ms/step - loss: 0.0126 - mean_squared_error: 0.0024 - val_loss: 0.0172 - val_mean_squared_error: 0.0050\n",
      "Epoch 204/1500\n",
      "2100/2100 [==============================] - 33s 16ms/step - loss: 0.0126 - mean_squared_error: 0.0024 - val_loss: 0.0173 - val_mean_squared_error: 0.0050\n",
      "Epoch 205/1500\n",
      "2100/2100 [==============================] - 33s 16ms/step - loss: 0.0126 - mean_squared_error: 0.0024 - val_loss: 0.0173 - val_mean_squared_error: 0.0050\n",
      "Epoch 206/1500\n",
      "2100/2100 [==============================] - 34s 16ms/step - loss: 0.0126 - mean_squared_error: 0.0024 - val_loss: 0.0172 - val_mean_squared_error: 0.0050\n",
      "Epoch 207/1500\n",
      "2100/2100 [==============================] - 34s 16ms/step - loss: 0.0126 - mean_squared_error: 0.0024 - val_loss: 0.0172 - val_mean_squared_error: 0.0050\n",
      "Epoch 208/1500\n",
      "2100/2100 [==============================] - 34s 16ms/step - loss: 0.0126 - mean_squared_error: 0.0024 - val_loss: 0.0173 - val_mean_squared_error: 0.0050\n",
      "Epoch 209/1500\n",
      "2100/2100 [==============================] - 34s 16ms/step - loss: 0.0126 - mean_squared_error: 0.0024 - val_loss: 0.0174 - val_mean_squared_error: 0.0052\n",
      "Epoch 210/1500\n",
      "2100/2100 [==============================] - 33s 16ms/step - loss: 0.0126 - mean_squared_error: 0.0024 - val_loss: 0.0174 - val_mean_squared_error: 0.0051\n",
      "\n",
      "Epoch 00210: val_loss did not improve from 0.01714\n",
      "Epoch 211/1500\n",
      "2100/2100 [==============================] - 34s 16ms/step - loss: 0.0126 - mean_squared_error: 0.0024 - val_loss: 0.0174 - val_mean_squared_error: 0.0051\n",
      "Epoch 212/1500\n",
      "2100/2100 [==============================] - 34s 16ms/step - loss: 0.0126 - mean_squared_error: 0.0024 - val_loss: 0.0174 - val_mean_squared_error: 0.0050\n",
      "Epoch 213/1500\n",
      "2100/2100 [==============================] - 34s 16ms/step - loss: 0.0126 - mean_squared_error: 0.0024 - val_loss: 0.0172 - val_mean_squared_error: 0.0050\n",
      "Epoch 214/1500\n",
      "2100/2100 [==============================] - 34s 16ms/step - loss: 0.0126 - mean_squared_error: 0.0024 - val_loss: 0.0171 - val_mean_squared_error: 0.0050\n",
      "Epoch 215/1500\n",
      "2100/2100 [==============================] - 33s 16ms/step - loss: 0.0126 - mean_squared_error: 0.0024 - val_loss: 0.0172 - val_mean_squared_error: 0.0050\n",
      "Epoch 216/1500\n",
      "2100/2100 [==============================] - 34s 16ms/step - loss: 0.0126 - mean_squared_error: 0.0024 - val_loss: 0.0172 - val_mean_squared_error: 0.0050\n",
      "Epoch 217/1500\n",
      "2100/2100 [==============================] - 34s 16ms/step - loss: 0.0126 - mean_squared_error: 0.0024 - val_loss: 0.0172 - val_mean_squared_error: 0.0049\n",
      "Epoch 218/1500\n",
      "2100/2100 [==============================] - 33s 16ms/step - loss: 0.0126 - mean_squared_error: 0.0024 - val_loss: 0.0171 - val_mean_squared_error: 0.0050\n",
      "Epoch 219/1500\n",
      "2100/2100 [==============================] - 33s 16ms/step - loss: 0.0126 - mean_squared_error: 0.0024 - val_loss: 0.0171 - val_mean_squared_error: 0.0049\n",
      "Epoch 220/1500\n",
      "2100/2100 [==============================] - 34s 16ms/step - loss: 0.0126 - mean_squared_error: 0.0024 - val_loss: 0.0171 - val_mean_squared_error: 0.0049\n",
      "\n",
      "Epoch 00220: val_loss improved from 0.01714 to 0.01712, saving model to /media/dril/ubuntudata/DBT-NEW/models/model20-dril.h5\n",
      "Epoch 221/1500\n",
      "2100/2100 [==============================] - 33s 16ms/step - loss: 0.0126 - mean_squared_error: 0.0024 - val_loss: 0.0173 - val_mean_squared_error: 0.0050\n",
      "Epoch 222/1500\n",
      "2100/2100 [==============================] - 33s 16ms/step - loss: 0.0126 - mean_squared_error: 0.0024 - val_loss: 0.0172 - val_mean_squared_error: 0.0050\n",
      "Epoch 223/1500\n",
      "2100/2100 [==============================] - 33s 16ms/step - loss: 0.0126 - mean_squared_error: 0.0024 - val_loss: 0.0173 - val_mean_squared_error: 0.0051\n",
      "Epoch 224/1500\n",
      "2100/2100 [==============================] - 33s 16ms/step - loss: 0.0126 - mean_squared_error: 0.0024 - val_loss: 0.0173 - val_mean_squared_error: 0.0050\n",
      "Epoch 225/1500\n",
      "2100/2100 [==============================] - 33s 16ms/step - loss: 0.0126 - mean_squared_error: 0.0024 - val_loss: 0.0172 - val_mean_squared_error: 0.0050\n",
      "Epoch 226/1500\n",
      "2100/2100 [==============================] - 33s 16ms/step - loss: 0.0126 - mean_squared_error: 0.0024 - val_loss: 0.0174 - val_mean_squared_error: 0.0051\n",
      "Epoch 227/1500\n",
      "2100/2100 [==============================] - 33s 16ms/step - loss: 0.0126 - mean_squared_error: 0.0024 - val_loss: 0.0175 - val_mean_squared_error: 0.0051\n",
      "Epoch 228/1500\n",
      "2100/2100 [==============================] - 33s 16ms/step - loss: 0.0126 - mean_squared_error: 0.0024 - val_loss: 0.0171 - val_mean_squared_error: 0.0050\n",
      "Epoch 229/1500\n",
      "2100/2100 [==============================] - 33s 16ms/step - loss: 0.0126 - mean_squared_error: 0.0024 - val_loss: 0.0173 - val_mean_squared_error: 0.0050\n",
      "Epoch 230/1500\n"
     ]
    },
    {
     "name": "stdout",
     "output_type": "stream",
     "text": [
      "2100/2100 [==============================] - 33s 16ms/step - loss: 0.0125 - mean_squared_error: 0.0024 - val_loss: 0.0172 - val_mean_squared_error: 0.0050\n",
      "\n",
      "Epoch 00230: val_loss did not improve from 0.01712\n",
      "Epoch 231/1500\n",
      "2100/2100 [==============================] - 33s 16ms/step - loss: 0.0126 - mean_squared_error: 0.0024 - val_loss: 0.0173 - val_mean_squared_error: 0.0050\n",
      "Epoch 232/1500\n",
      "2100/2100 [==============================] - 33s 16ms/step - loss: 0.0125 - mean_squared_error: 0.0024 - val_loss: 0.0171 - val_mean_squared_error: 0.0049\n",
      "Epoch 233/1500\n",
      "2100/2100 [==============================] - 33s 16ms/step - loss: 0.0126 - mean_squared_error: 0.0024 - val_loss: 0.0173 - val_mean_squared_error: 0.0050\n",
      "Epoch 234/1500\n",
      "2100/2100 [==============================] - 33s 16ms/step - loss: 0.0126 - mean_squared_error: 0.0024 - val_loss: 0.0172 - val_mean_squared_error: 0.0050\n",
      "Epoch 235/1500\n",
      "2100/2100 [==============================] - 33s 16ms/step - loss: 0.0125 - mean_squared_error: 0.0024 - val_loss: 0.0172 - val_mean_squared_error: 0.0050\n",
      "Epoch 236/1500\n",
      "2100/2100 [==============================] - 33s 16ms/step - loss: 0.0126 - mean_squared_error: 0.0024 - val_loss: 0.0171 - val_mean_squared_error: 0.0050\n",
      "Epoch 237/1500\n",
      "2100/2100 [==============================] - 33s 16ms/step - loss: 0.0125 - mean_squared_error: 0.0024 - val_loss: 0.0173 - val_mean_squared_error: 0.0050\n",
      "Epoch 238/1500\n",
      "2100/2100 [==============================] - 33s 16ms/step - loss: 0.0125 - mean_squared_error: 0.0024 - val_loss: 0.0172 - val_mean_squared_error: 0.0050\n",
      "Epoch 239/1500\n",
      "2100/2100 [==============================] - 33s 16ms/step - loss: 0.0125 - mean_squared_error: 0.0024 - val_loss: 0.0171 - val_mean_squared_error: 0.0050\n",
      "Epoch 240/1500\n",
      "2100/2100 [==============================] - 33s 16ms/step - loss: 0.0125 - mean_squared_error: 0.0024 - val_loss: 0.0172 - val_mean_squared_error: 0.0050\n",
      "\n",
      "Epoch 00240: val_loss did not improve from 0.01712\n",
      "Epoch 241/1500\n",
      "2100/2100 [==============================] - 34s 16ms/step - loss: 0.0125 - mean_squared_error: 0.0024 - val_loss: 0.0173 - val_mean_squared_error: 0.0050\n",
      "Epoch 242/1500\n",
      "2100/2100 [==============================] - 35s 17ms/step - loss: 0.0125 - mean_squared_error: 0.0024 - val_loss: 0.0174 - val_mean_squared_error: 0.0051\n",
      "Epoch 243/1500\n",
      "2100/2100 [==============================] - 35s 16ms/step - loss: 0.0125 - mean_squared_error: 0.0024 - val_loss: 0.0174 - val_mean_squared_error: 0.0051\n",
      "Epoch 244/1500\n",
      "2100/2100 [==============================] - 34s 16ms/step - loss: 0.0125 - mean_squared_error: 0.0024 - val_loss: 0.0173 - val_mean_squared_error: 0.0049\n",
      "Epoch 245/1500\n",
      "2100/2100 [==============================] - 34s 16ms/step - loss: 0.0125 - mean_squared_error: 0.0024 - val_loss: 0.0173 - val_mean_squared_error: 0.0050\n",
      "Epoch 246/1500\n",
      "2100/2100 [==============================] - 34s 16ms/step - loss: 0.0125 - mean_squared_error: 0.0024 - val_loss: 0.0172 - val_mean_squared_error: 0.0050\n",
      "Epoch 247/1500\n",
      "2100/2100 [==============================] - 35s 16ms/step - loss: 0.0125 - mean_squared_error: 0.0024 - val_loss: 0.0173 - val_mean_squared_error: 0.0050\n",
      "Epoch 248/1500\n",
      "2100/2100 [==============================] - 34s 16ms/step - loss: 0.0125 - mean_squared_error: 0.0024 - val_loss: 0.0173 - val_mean_squared_error: 0.0050\n",
      "Epoch 249/1500\n",
      "2100/2100 [==============================] - 35s 17ms/step - loss: 0.0125 - mean_squared_error: 0.0024 - val_loss: 0.0173 - val_mean_squared_error: 0.0050\n",
      "Epoch 250/1500\n",
      "2100/2100 [==============================] - 35s 17ms/step - loss: 0.0125 - mean_squared_error: 0.0024 - val_loss: 0.0172 - val_mean_squared_error: 0.0050\n",
      "\n",
      "Epoch 00250: val_loss did not improve from 0.01712\n",
      "Epoch 251/1500\n",
      "2100/2100 [==============================] - 34s 16ms/step - loss: 0.0125 - mean_squared_error: 0.0024 - val_loss: 0.0175 - val_mean_squared_error: 0.0050\n",
      "Epoch 252/1500\n",
      "2100/2100 [==============================] - 34s 16ms/step - loss: 0.0125 - mean_squared_error: 0.0024 - val_loss: 0.0174 - val_mean_squared_error: 0.0050\n",
      "Epoch 253/1500\n",
      "2100/2100 [==============================] - 34s 16ms/step - loss: 0.0125 - mean_squared_error: 0.0024 - val_loss: 0.0172 - val_mean_squared_error: 0.0050\n",
      "Epoch 254/1500\n",
      "2100/2100 [==============================] - 34s 16ms/step - loss: 0.0125 - mean_squared_error: 0.0024 - val_loss: 0.0173 - val_mean_squared_error: 0.0050\n",
      "Epoch 255/1500\n",
      "2100/2100 [==============================] - 34s 16ms/step - loss: 0.0125 - mean_squared_error: 0.0024 - val_loss: 0.0173 - val_mean_squared_error: 0.0050\n",
      "Epoch 256/1500\n",
      "2100/2100 [==============================] - 35s 17ms/step - loss: 0.0125 - mean_squared_error: 0.0024 - val_loss: 0.0174 - val_mean_squared_error: 0.0050\n",
      "Epoch 257/1500\n",
      "2100/2100 [==============================] - 34s 16ms/step - loss: 0.0125 - mean_squared_error: 0.0024 - val_loss: 0.0172 - val_mean_squared_error: 0.0050\n",
      "Epoch 258/1500\n",
      "2100/2100 [==============================] - 34s 16ms/step - loss: 0.0125 - mean_squared_error: 0.0024 - val_loss: 0.0172 - val_mean_squared_error: 0.0049\n",
      "Epoch 259/1500\n",
      "2100/2100 [==============================] - 35s 17ms/step - loss: 0.0125 - mean_squared_error: 0.0024 - val_loss: 0.0172 - val_mean_squared_error: 0.0050\n",
      "Epoch 260/1500\n",
      "2100/2100 [==============================] - 34s 16ms/step - loss: 0.0125 - mean_squared_error: 0.0024 - val_loss: 0.0173 - val_mean_squared_error: 0.0051\n",
      "\n",
      "Epoch 00260: val_loss did not improve from 0.01712\n",
      "Epoch 261/1500\n",
      "2100/2100 [==============================] - 35s 17ms/step - loss: 0.0125 - mean_squared_error: 0.0024 - val_loss: 0.0172 - val_mean_squared_error: 0.0050\n",
      "Epoch 262/1500\n",
      "2100/2100 [==============================] - 34s 16ms/step - loss: 0.0125 - mean_squared_error: 0.0024 - val_loss: 0.0174 - val_mean_squared_error: 0.0050\n",
      "Epoch 263/1500\n",
      "2100/2100 [==============================] - 34s 16ms/step - loss: 0.0125 - mean_squared_error: 0.0024 - val_loss: 0.0172 - val_mean_squared_error: 0.0050\n",
      "Epoch 264/1500\n",
      "2100/2100 [==============================] - 34s 16ms/step - loss: 0.0125 - mean_squared_error: 0.0024 - val_loss: 0.0173 - val_mean_squared_error: 0.0050\n",
      "Epoch 265/1500\n",
      "2100/2100 [==============================] - 34s 16ms/step - loss: 0.0125 - mean_squared_error: 0.0024 - val_loss: 0.0171 - val_mean_squared_error: 0.0049\n",
      "Epoch 266/1500\n",
      "2100/2100 [==============================] - 34s 16ms/step - loss: 0.0125 - mean_squared_error: 0.0024 - val_loss: 0.0173 - val_mean_squared_error: 0.0050\n",
      "Epoch 267/1500\n",
      "2100/2100 [==============================] - 37s 18ms/step - loss: 0.0125 - mean_squared_error: 0.0024 - val_loss: 0.0173 - val_mean_squared_error: 0.0050\n",
      "Epoch 268/1500\n",
      "2100/2100 [==============================] - 29s 14ms/step - loss: 0.0125 - mean_squared_error: 0.0024 - val_loss: 0.0173 - val_mean_squared_error: 0.0050\n",
      "Epoch 269/1500\n",
      "2100/2100 [==============================] - 31s 15ms/step - loss: 0.0125 - mean_squared_error: 0.0024 - val_loss: 0.0172 - val_mean_squared_error: 0.0050\n",
      "Epoch 270/1500\n",
      "2100/2100 [==============================] - 31s 15ms/step - loss: 0.0125 - mean_squared_error: 0.0024 - val_loss: 0.0174 - val_mean_squared_error: 0.0050\n",
      "\n",
      "Epoch 00270: val_loss did not improve from 0.01712\n",
      "Epoch 271/1500\n",
      "2100/2100 [==============================] - 29s 14ms/step - loss: 0.0125 - mean_squared_error: 0.0024 - val_loss: 0.0172 - val_mean_squared_error: 0.0050\n",
      "Epoch 272/1500\n",
      "2100/2100 [==============================] - 30s 14ms/step - loss: 0.0125 - mean_squared_error: 0.0024 - val_loss: 0.0171 - val_mean_squared_error: 0.0050\n",
      "Epoch 273/1500\n",
      "2100/2100 [==============================] - 28s 13ms/step - loss: 0.0125 - mean_squared_error: 0.0024 - val_loss: 0.0173 - val_mean_squared_error: 0.0050\n",
      "Epoch 274/1500\n",
      "2100/2100 [==============================] - 28s 13ms/step - loss: 0.0125 - mean_squared_error: 0.0024 - val_loss: 0.0172 - val_mean_squared_error: 0.0050\n",
      "Epoch 275/1500\n",
      "2100/2100 [==============================] - 28s 13ms/step - loss: 0.0125 - mean_squared_error: 0.0024 - val_loss: 0.0173 - val_mean_squared_error: 0.0050\n",
      "Epoch 276/1500\n",
      "2100/2100 [==============================] - 28s 13ms/step - loss: 0.0125 - mean_squared_error: 0.0024 - val_loss: 0.0178 - val_mean_squared_error: 0.0051\n"
     ]
    },
    {
     "name": "stdout",
     "output_type": "stream",
     "text": [
      "Epoch 277/1500\n",
      "2100/2100 [==============================] - 28s 13ms/step - loss: 0.0125 - mean_squared_error: 0.0024 - val_loss: 0.0173 - val_mean_squared_error: 0.0050\n",
      "Epoch 278/1500\n",
      "2100/2100 [==============================] - 28s 13ms/step - loss: 0.0125 - mean_squared_error: 0.0024 - val_loss: 0.0172 - val_mean_squared_error: 0.0050\n",
      "Epoch 279/1500\n",
      "2100/2100 [==============================] - 28s 13ms/step - loss: 0.0125 - mean_squared_error: 0.0024 - val_loss: 0.0172 - val_mean_squared_error: 0.0050\n",
      "Epoch 280/1500\n",
      "2100/2100 [==============================] - 28s 13ms/step - loss: 0.0125 - mean_squared_error: 0.0024 - val_loss: 0.0173 - val_mean_squared_error: 0.0050\n",
      "\n",
      "Epoch 00280: val_loss did not improve from 0.01712\n",
      "Epoch 281/1500\n",
      "2100/2100 [==============================] - 28s 13ms/step - loss: 0.0125 - mean_squared_error: 0.0024 - val_loss: 0.0171 - val_mean_squared_error: 0.0049\n",
      "Epoch 282/1500\n",
      "2100/2100 [==============================] - 28s 13ms/step - loss: 0.0125 - mean_squared_error: 0.0024 - val_loss: 0.0172 - val_mean_squared_error: 0.0049\n",
      "Epoch 283/1500\n",
      "2100/2100 [==============================] - 28s 13ms/step - loss: 0.0125 - mean_squared_error: 0.0024 - val_loss: 0.0173 - val_mean_squared_error: 0.0050\n",
      "Epoch 284/1500\n",
      "2100/2100 [==============================] - 28s 13ms/step - loss: 0.0124 - mean_squared_error: 0.0024 - val_loss: 0.0172 - val_mean_squared_error: 0.0049\n",
      "Epoch 285/1500\n",
      "2100/2100 [==============================] - 28s 13ms/step - loss: 0.0125 - mean_squared_error: 0.0024 - val_loss: 0.0173 - val_mean_squared_error: 0.0050\n",
      "Epoch 286/1500\n",
      "2100/2100 [==============================] - 28s 13ms/step - loss: 0.0125 - mean_squared_error: 0.0024 - val_loss: 0.0172 - val_mean_squared_error: 0.0050\n",
      "Epoch 287/1500\n",
      "2100/2100 [==============================] - 28s 13ms/step - loss: 0.0125 - mean_squared_error: 0.0024 - val_loss: 0.0172 - val_mean_squared_error: 0.0050\n",
      "Epoch 288/1500\n",
      "2100/2100 [==============================] - 28s 13ms/step - loss: 0.0125 - mean_squared_error: 0.0024 - val_loss: 0.0172 - val_mean_squared_error: 0.0049\n",
      "Epoch 289/1500\n",
      "2100/2100 [==============================] - 28s 13ms/step - loss: 0.0124 - mean_squared_error: 0.0024 - val_loss: 0.0173 - val_mean_squared_error: 0.0050\n",
      "Epoch 290/1500\n",
      "2100/2100 [==============================] - 28s 13ms/step - loss: 0.0125 - mean_squared_error: 0.0024 - val_loss: 0.0175 - val_mean_squared_error: 0.0051\n",
      "\n",
      "Epoch 00290: val_loss did not improve from 0.01712\n",
      "Epoch 291/1500\n",
      "2100/2100 [==============================] - 28s 13ms/step - loss: 0.0124 - mean_squared_error: 0.0023 - val_loss: 0.0172 - val_mean_squared_error: 0.0050\n",
      "Epoch 292/1500\n",
      "2100/2100 [==============================] - 28s 13ms/step - loss: 0.0125 - mean_squared_error: 0.0024 - val_loss: 0.0173 - val_mean_squared_error: 0.0050\n",
      "Epoch 293/1500\n",
      "2100/2100 [==============================] - 28s 13ms/step - loss: 0.0124 - mean_squared_error: 0.0023 - val_loss: 0.0171 - val_mean_squared_error: 0.0050\n",
      "Epoch 294/1500\n",
      "2100/2100 [==============================] - 28s 13ms/step - loss: 0.0124 - mean_squared_error: 0.0024 - val_loss: 0.0172 - val_mean_squared_error: 0.0049\n",
      "Epoch 295/1500\n",
      "2100/2100 [==============================] - 28s 13ms/step - loss: 0.0124 - mean_squared_error: 0.0023 - val_loss: 0.0173 - val_mean_squared_error: 0.0050\n",
      "Epoch 296/1500\n",
      "2100/2100 [==============================] - 28s 13ms/step - loss: 0.0124 - mean_squared_error: 0.0023 - val_loss: 0.0176 - val_mean_squared_error: 0.0051\n",
      "Epoch 297/1500\n",
      "2100/2100 [==============================] - 28s 13ms/step - loss: 0.0124 - mean_squared_error: 0.0023 - val_loss: 0.0172 - val_mean_squared_error: 0.0050\n",
      "Epoch 298/1500\n",
      "2100/2100 [==============================] - 28s 13ms/step - loss: 0.0124 - mean_squared_error: 0.0023 - val_loss: 0.0173 - val_mean_squared_error: 0.0050\n",
      "Epoch 299/1500\n",
      "2100/2100 [==============================] - 29s 14ms/step - loss: 0.0124 - mean_squared_error: 0.0024 - val_loss: 0.0172 - val_mean_squared_error: 0.0050\n",
      "Epoch 300/1500\n",
      " 584/2100 [=======>......................] - ETA: 25s - loss: 0.0124 - mean_squared_error: 0.0023"
     ]
    },
    {
     "ename": "KeyboardInterrupt",
     "evalue": "",
     "output_type": "error",
     "traceback": [
      "\u001b[0;31m---------------------------------------------------------------------------\u001b[0m",
      "\u001b[0;31mKeyboardInterrupt\u001b[0m                         Traceback (most recent call last)",
      "\u001b[0;32m<ipython-input-43-c5ce941dd706>\u001b[0m in \u001b[0;36m<module>\u001b[0;34m\u001b[0m\n\u001b[1;32m      8\u001b[0m model.fit(trainx, trainy, validation_data=(valx, valy), \n\u001b[1;32m      9\u001b[0m           \u001b[0mbatch_size\u001b[0m\u001b[0;34m=\u001b[0m\u001b[0;36m4\u001b[0m\u001b[0;34m,\u001b[0m\u001b[0;34m\u001b[0m\u001b[0;34m\u001b[0m\u001b[0m\n\u001b[0;32m---> 10\u001b[0;31m           epochs=1500, callbacks=[checkpoint])\n\u001b[0m",
      "\u001b[0;32m~/anaconda3/envs/tensorflow/lib/python3.6/site-packages/keras/engine/training.py\u001b[0m in \u001b[0;36mfit\u001b[0;34m(self, x, y, batch_size, epochs, verbose, callbacks, validation_split, validation_data, shuffle, class_weight, sample_weight, initial_epoch, steps_per_epoch, validation_steps, **kwargs)\u001b[0m\n\u001b[1;32m   1037\u001b[0m                                         \u001b[0minitial_epoch\u001b[0m\u001b[0;34m=\u001b[0m\u001b[0minitial_epoch\u001b[0m\u001b[0;34m,\u001b[0m\u001b[0;34m\u001b[0m\u001b[0;34m\u001b[0m\u001b[0m\n\u001b[1;32m   1038\u001b[0m                                         \u001b[0msteps_per_epoch\u001b[0m\u001b[0;34m=\u001b[0m\u001b[0msteps_per_epoch\u001b[0m\u001b[0;34m,\u001b[0m\u001b[0;34m\u001b[0m\u001b[0;34m\u001b[0m\u001b[0m\n\u001b[0;32m-> 1039\u001b[0;31m                                         validation_steps=validation_steps)\n\u001b[0m\u001b[1;32m   1040\u001b[0m \u001b[0;34m\u001b[0m\u001b[0m\n\u001b[1;32m   1041\u001b[0m     def evaluate(self, x=None, y=None,\n",
      "\u001b[0;32m~/anaconda3/envs/tensorflow/lib/python3.6/site-packages/keras/engine/training_arrays.py\u001b[0m in \u001b[0;36mfit_loop\u001b[0;34m(model, f, ins, out_labels, batch_size, epochs, verbose, callbacks, val_f, val_ins, shuffle, callback_metrics, initial_epoch, steps_per_epoch, validation_steps)\u001b[0m\n\u001b[1;32m    197\u001b[0m                     \u001b[0mins_batch\u001b[0m\u001b[0;34m[\u001b[0m\u001b[0mi\u001b[0m\u001b[0;34m]\u001b[0m \u001b[0;34m=\u001b[0m \u001b[0mins_batch\u001b[0m\u001b[0;34m[\u001b[0m\u001b[0mi\u001b[0m\u001b[0;34m]\u001b[0m\u001b[0;34m.\u001b[0m\u001b[0mtoarray\u001b[0m\u001b[0;34m(\u001b[0m\u001b[0;34m)\u001b[0m\u001b[0;34m\u001b[0m\u001b[0;34m\u001b[0m\u001b[0m\n\u001b[1;32m    198\u001b[0m \u001b[0;34m\u001b[0m\u001b[0m\n\u001b[0;32m--> 199\u001b[0;31m                 \u001b[0mouts\u001b[0m \u001b[0;34m=\u001b[0m \u001b[0mf\u001b[0m\u001b[0;34m(\u001b[0m\u001b[0mins_batch\u001b[0m\u001b[0;34m)\u001b[0m\u001b[0;34m\u001b[0m\u001b[0;34m\u001b[0m\u001b[0m\n\u001b[0m\u001b[1;32m    200\u001b[0m                 \u001b[0mouts\u001b[0m \u001b[0;34m=\u001b[0m \u001b[0mto_list\u001b[0m\u001b[0;34m(\u001b[0m\u001b[0mouts\u001b[0m\u001b[0;34m)\u001b[0m\u001b[0;34m\u001b[0m\u001b[0;34m\u001b[0m\u001b[0m\n\u001b[1;32m    201\u001b[0m                 \u001b[0;32mfor\u001b[0m \u001b[0ml\u001b[0m\u001b[0;34m,\u001b[0m \u001b[0mo\u001b[0m \u001b[0;32min\u001b[0m \u001b[0mzip\u001b[0m\u001b[0;34m(\u001b[0m\u001b[0mout_labels\u001b[0m\u001b[0;34m,\u001b[0m \u001b[0mouts\u001b[0m\u001b[0;34m)\u001b[0m\u001b[0;34m:\u001b[0m\u001b[0;34m\u001b[0m\u001b[0;34m\u001b[0m\u001b[0m\n",
      "\u001b[0;32m~/anaconda3/envs/tensorflow/lib/python3.6/site-packages/keras/backend/tensorflow_backend.py\u001b[0m in \u001b[0;36m__call__\u001b[0;34m(self, inputs)\u001b[0m\n\u001b[1;32m   2713\u001b[0m                 \u001b[0;32mreturn\u001b[0m \u001b[0mself\u001b[0m\u001b[0;34m.\u001b[0m\u001b[0m_legacy_call\u001b[0m\u001b[0;34m(\u001b[0m\u001b[0minputs\u001b[0m\u001b[0;34m)\u001b[0m\u001b[0;34m\u001b[0m\u001b[0;34m\u001b[0m\u001b[0m\n\u001b[1;32m   2714\u001b[0m \u001b[0;34m\u001b[0m\u001b[0m\n\u001b[0;32m-> 2715\u001b[0;31m             \u001b[0;32mreturn\u001b[0m \u001b[0mself\u001b[0m\u001b[0;34m.\u001b[0m\u001b[0m_call\u001b[0m\u001b[0;34m(\u001b[0m\u001b[0minputs\u001b[0m\u001b[0;34m)\u001b[0m\u001b[0;34m\u001b[0m\u001b[0;34m\u001b[0m\u001b[0m\n\u001b[0m\u001b[1;32m   2716\u001b[0m         \u001b[0;32melse\u001b[0m\u001b[0;34m:\u001b[0m\u001b[0;34m\u001b[0m\u001b[0;34m\u001b[0m\u001b[0m\n\u001b[1;32m   2717\u001b[0m             \u001b[0;32mif\u001b[0m \u001b[0mpy_any\u001b[0m\u001b[0;34m(\u001b[0m\u001b[0mis_tensor\u001b[0m\u001b[0;34m(\u001b[0m\u001b[0mx\u001b[0m\u001b[0;34m)\u001b[0m \u001b[0;32mfor\u001b[0m \u001b[0mx\u001b[0m \u001b[0;32min\u001b[0m \u001b[0minputs\u001b[0m\u001b[0;34m)\u001b[0m\u001b[0;34m:\u001b[0m\u001b[0;34m\u001b[0m\u001b[0;34m\u001b[0m\u001b[0m\n",
      "\u001b[0;32m~/anaconda3/envs/tensorflow/lib/python3.6/site-packages/keras/backend/tensorflow_backend.py\u001b[0m in \u001b[0;36m_call\u001b[0;34m(self, inputs)\u001b[0m\n\u001b[1;32m   2673\u001b[0m             \u001b[0mfetched\u001b[0m \u001b[0;34m=\u001b[0m \u001b[0mself\u001b[0m\u001b[0;34m.\u001b[0m\u001b[0m_callable_fn\u001b[0m\u001b[0;34m(\u001b[0m\u001b[0;34m*\u001b[0m\u001b[0marray_vals\u001b[0m\u001b[0;34m,\u001b[0m \u001b[0mrun_metadata\u001b[0m\u001b[0;34m=\u001b[0m\u001b[0mself\u001b[0m\u001b[0;34m.\u001b[0m\u001b[0mrun_metadata\u001b[0m\u001b[0;34m)\u001b[0m\u001b[0;34m\u001b[0m\u001b[0;34m\u001b[0m\u001b[0m\n\u001b[1;32m   2674\u001b[0m         \u001b[0;32melse\u001b[0m\u001b[0;34m:\u001b[0m\u001b[0;34m\u001b[0m\u001b[0;34m\u001b[0m\u001b[0m\n\u001b[0;32m-> 2675\u001b[0;31m             \u001b[0mfetched\u001b[0m \u001b[0;34m=\u001b[0m \u001b[0mself\u001b[0m\u001b[0;34m.\u001b[0m\u001b[0m_callable_fn\u001b[0m\u001b[0;34m(\u001b[0m\u001b[0;34m*\u001b[0m\u001b[0marray_vals\u001b[0m\u001b[0;34m)\u001b[0m\u001b[0;34m\u001b[0m\u001b[0;34m\u001b[0m\u001b[0m\n\u001b[0m\u001b[1;32m   2676\u001b[0m         \u001b[0;32mreturn\u001b[0m \u001b[0mfetched\u001b[0m\u001b[0;34m[\u001b[0m\u001b[0;34m:\u001b[0m\u001b[0mlen\u001b[0m\u001b[0;34m(\u001b[0m\u001b[0mself\u001b[0m\u001b[0;34m.\u001b[0m\u001b[0moutputs\u001b[0m\u001b[0;34m)\u001b[0m\u001b[0;34m]\u001b[0m\u001b[0;34m\u001b[0m\u001b[0;34m\u001b[0m\u001b[0m\n\u001b[1;32m   2677\u001b[0m \u001b[0;34m\u001b[0m\u001b[0m\n",
      "\u001b[0;32m~/anaconda3/envs/tensorflow/lib/python3.6/site-packages/tensorflow/python/client/session.py\u001b[0m in \u001b[0;36m__call__\u001b[0;34m(self, *args, **kwargs)\u001b[0m\n\u001b[1;32m   1437\u001b[0m           ret = tf_session.TF_SessionRunCallable(\n\u001b[1;32m   1438\u001b[0m               \u001b[0mself\u001b[0m\u001b[0;34m.\u001b[0m\u001b[0m_session\u001b[0m\u001b[0;34m.\u001b[0m\u001b[0m_session\u001b[0m\u001b[0;34m,\u001b[0m \u001b[0mself\u001b[0m\u001b[0;34m.\u001b[0m\u001b[0m_handle\u001b[0m\u001b[0;34m,\u001b[0m \u001b[0margs\u001b[0m\u001b[0;34m,\u001b[0m \u001b[0mstatus\u001b[0m\u001b[0;34m,\u001b[0m\u001b[0;34m\u001b[0m\u001b[0;34m\u001b[0m\u001b[0m\n\u001b[0;32m-> 1439\u001b[0;31m               run_metadata_ptr)\n\u001b[0m\u001b[1;32m   1440\u001b[0m         \u001b[0;32mif\u001b[0m \u001b[0mrun_metadata\u001b[0m\u001b[0;34m:\u001b[0m\u001b[0;34m\u001b[0m\u001b[0;34m\u001b[0m\u001b[0m\n\u001b[1;32m   1441\u001b[0m           \u001b[0mproto_data\u001b[0m \u001b[0;34m=\u001b[0m \u001b[0mtf_session\u001b[0m\u001b[0;34m.\u001b[0m\u001b[0mTF_GetBuffer\u001b[0m\u001b[0;34m(\u001b[0m\u001b[0mrun_metadata_ptr\u001b[0m\u001b[0;34m)\u001b[0m\u001b[0;34m\u001b[0m\u001b[0;34m\u001b[0m\u001b[0m\n",
      "\u001b[0;31mKeyboardInterrupt\u001b[0m: "
     ]
    }
   ],
   "source": [
    "# For training the U-Net model\n",
    "\n",
    "checkpoint  = ModelCheckpoint(filepath='/media/dril/ubuntudata/DBT-NEW/models/model20-dril.h5', \n",
    "                              monitor='val_loss', period=10, \n",
    "                              verbose=1, save_best_only=True, mode='min')\n",
    "model = unet_3d_prelu2()\n",
    "print(model.summary())\n",
    "model.fit(trainx, trainy, validation_data=(valx, valy), \n",
    "          batch_size=4, \n",
    "          epochs=1500, callbacks=[checkpoint])"
   ]
  },
  {
   "cell_type": "code",
   "execution_count": null,
   "metadata": {},
   "outputs": [],
   "source": [
    "model = load_model('/media/dril/ubuntudata/DBT-NEW/models/model18-dril.h5', compile=True)"
   ]
  },
  {
   "cell_type": "code",
   "execution_count": 44,
   "metadata": {},
   "outputs": [
    {
     "name": "stdout",
     "output_type": "stream",
     "text": [
      "(540, 104, 24, 40, 1)\n"
     ]
    }
   ],
   "source": [
    "result = model.predict(valx, batch_size=4)\n",
    "print(result.shape)"
   ]
  },
  {
   "cell_type": "code",
   "execution_count": 4,
   "metadata": {
    "code_folding": [
     0
    ]
   },
   "outputs": [
    {
     "name": "stdout",
     "output_type": "stream",
     "text": [
      "(100, 56, 40) (100, 56, 40)\n",
      "(80, 20, 56, 40, 1) (90, 56, 40) (100, 56, 40)\n",
      "(80, 20, 56, 40, 1) (80, 20, 56, 40, 1)\n"
     ]
    }
   ],
   "source": [
    "# Make total Model from slices\n",
    "\n",
    "index   = 153#random.randint(0, 35)\n",
    "\n",
    "#volx = loadmat('/media/dril/ubuntudata/DBT-NEW/recons/sart_cir_zero_'+str(index)+'.mat')\n",
    "volx = loadmat('/home/dril/newrecon/ReconDBT/sart_cir_zero.mat')\n",
    "voly = loadmat('/home/dril/newrecon/ReconDBT/vol_lesion_'+str(index)+'.mat')\n",
    "#voly = loadmat('/media/dril/ubuntudata/DBT-NEW/attenuation_values_cropped/'+str(index)+'.mat')\n",
    "    \n",
    "volx = volx['xartt']\n",
    "voly = voly['x']\n",
    "\n",
    "voly = ndimage.zoom(voly, 0.250, order=1).astype(np.single)\n",
    "volx = ndimage.zoom(volx, 0.250, order=1).astype(np.single)\n",
    "\n",
    "print(volx.shape, voly.shape)\n",
    "\n",
    "testitx = []\n",
    "testity = []\n",
    "\n",
    "for i in range(0, 80):\n",
    "    x = volx[i:i+20]\n",
    "    testitx.append(x)\n",
    "\n",
    "for i in range(0, 80):\n",
    "    y = voly[i:i+20]\n",
    "    testity.append(y)\n",
    "\n",
    "testitx = np.array(testitx)\n",
    "testity = np.array(testity)\n",
    "\n",
    "testitx = np.expand_dims(testitx, axis=-1)\n",
    "testity = np.expand_dims(testity, axis=-1)\n",
    "\n",
    "testitx  = np.pad(testitx, ((0,0), (2, 2), (0, 0), (0, 0), (0, 0)), 'constant', constant_values = (0, 0))\n",
    "testity  = np.pad(testity, ((0,0), (2, 2), (0, 0), (0, 0), (0, 0)), 'constant', constant_values = (0, 0))\n",
    "\n",
    "result = model.predict(testitx, batch_size=4)\n",
    "\n",
    "result  = result[:,  2:22, :, :, :]\n",
    "testitx = testitx[:, 2:22, :, :, :]\n",
    "testity = testity[:, 2:22, :, :, :]\n",
    "\n",
    "final_result = []\n",
    "for i in range(len(result)):\n",
    "    final_result.append(result[i, 10, :, :, 0])\n",
    "\n",
    "final_result = np.array(final_result)\n",
    "final_result = np.concatenate([result[0, :10, :, :, 0] , final_result], axis=0)\n",
    "final_result2 = np.concatenate([final_result, result[79, 10:, :, :, 0]], axis=0)\n",
    "\n",
    "print(result.shape, final_result.shape, final_result2.shape)\n",
    "\n",
    "# testitx = np.concatenate([testitx[0], testitx[1], testitx[2], testitx[3], testitx[4]], axis=0)\n",
    "# result  = np.concatenate([result[0],  result[1], result[2], result[3], result[4]],     axis=0)\n",
    "# testity = np.concatenate([testity[0], testity[1], testity[2], testity[3], testity[4]], axis=0)\n",
    "\n",
    "#print(testity.shape, testitx.shape)\n",
    "print(testity.shape, testitx.shape)"
   ]
  },
  {
   "cell_type": "code",
   "execution_count": 71,
   "metadata": {},
   "outputs": [
    {
     "name": "stdout",
     "output_type": "stream",
     "text": [
      "15\n"
     ]
    },
    {
     "data": {
      "text/plain": [
       "<matplotlib.image.AxesImage at 0x7f30dd0e2eb8>"
      ]
     },
     "execution_count": 71,
     "metadata": {},
     "output_type": "execute_result"
    },
    {
     "data": {
      "image/png": "[encoded data removed]",
      "text/plain": [
       "<Figure size 432x288 with 1 Axes>"
      ]
     },
     "metadata": {
      "needs_background": "light"
     },
     "output_type": "display_data"
    }
   ],
   "source": [
    "slicenum = 15#random.randint(0, 40)\n",
    "print(slicenum)\n",
    "index = random.randint(0, 500)\n",
    "plt.imshow(np.concatenate([valx[index, :, 12, :, 0],  result[index, :, 12, :, 0], valy[index, :, 12, :, 0]], axis=-1), cmap='gray')"
   ]
  },
  {
   "cell_type": "code",
   "execution_count": 24,
   "metadata": {},
   "outputs": [
    {
     "name": "stdout",
     "output_type": "stream",
     "text": [
      "30\n"
     ]
    },
    {
     "data": {
      "text/plain": [
       "<matplotlib.image.AxesImage at 0x7efdc5e7d6a0>"
      ]
     },
     "execution_count": 24,
     "metadata": {},
     "output_type": "execute_result"
    },
    {
     "data": {
      "image/png": "[encoded data removed]",
      "text/plain": [
       "<Figure size 432x288 with 1 Axes>"
      ]
     },
     "metadata": {
      "needs_background": "light"
     },
     "output_type": "display_data"
    }
   ],
   "source": [
    "slicenum = 30#random.randint(0, 40)\n",
    "print(slicenum)\n",
    "plt.imshow(np.concatenate([volx[:, :, slicenum],  final_result1[:, :, slicenum], voly[:, :, slicenum]], axis=-1), cmap='gray')"
   ]
  },
  {
   "cell_type": "code",
   "execution_count": 181,
   "metadata": {},
   "outputs": [
    {
     "data": {
      "text/plain": [
       "<matplotlib.image.AxesImage at 0x7f041c7abd68>"
      ]
     },
     "execution_count": 181,
     "metadata": {},
     "output_type": "execute_result"
    },
    {
     "data": {
      "image/png": "[encoded data removed]",
      "text/plain": [
       "<Figure size 432x288 with 1 Axes>"
      ]
     },
     "metadata": {
      "needs_background": "light"
     },
     "output_type": "display_data"
    }
   ],
   "source": [
    "plt.imshow(np.concatenate([testitx[50, :, :, 0],  result[50, :, :, 0], testity[50, :, :, 0]], axis=-1), cmap='gray')"
   ]
  },
  {
   "cell_type": "code",
   "execution_count": 117,
   "metadata": {
    "code_folding": [
     0
    ]
   },
   "outputs": [
    {
     "name": "stdout",
     "output_type": "stream",
     "text": [
      "12\n",
      "(2, 50, 56, 40, 1)\n",
      "(100, 56, 40, 1) (100, 56, 40, 1) (100, 56, 40, 1)\n"
     ]
    }
   ],
   "source": [
    "# Make total Model from slices\n",
    "\n",
    "index   = random.randint(0, 35)\n",
    "print(index)\n",
    "\n",
    "testitx = []\n",
    "testitx.append(valx[index*5, :, :, :, :])\n",
    "testitx.append(valx[index*5+1, :, :, :, :])\n",
    "testitx = np.array(testitx)\n",
    "\n",
    "testity = []\n",
    "testity.append(valy[index*5, :, :, :, :])\n",
    "testity.append(valy[index*5+1, :, :, :, :])\n",
    "testity = np.array(testity)\n",
    "\n",
    "result = model.predict(testitx)\n",
    "\n",
    "result  = result[:, 3:53, :, :, :]\n",
    "testitx = testitx[:, 3:53, :, :, :]\n",
    "testity = testity[:, 3:53, :, :, :]\n",
    "\n",
    "print(result.shape)\n",
    "\n",
    "testitx = np.concatenate([testitx[0], testitx[1]], axis=0)\n",
    "result  = np.concatenate([result[0], result[1]], axis=0)\n",
    "testity = np.concatenate([testity[0], testity[1]], axis=0)\n",
    "\n",
    "print(result.shape, testity.shape, testitx.shape)"
   ]
  },
  {
   "cell_type": "code",
   "execution_count": 131,
   "metadata": {},
   "outputs": [
    {
     "name": "stdout",
     "output_type": "stream",
     "text": [
      "(700, 56, 56, 40, 1) (180, 56, 56, 40, 1)\n"
     ]
    }
   ],
   "source": [
    "print(trainx.shape, valx.shape)"
   ]
  },
  {
   "cell_type": "code",
   "execution_count": 138,
   "metadata": {},
   "outputs": [
    {
     "data": {
      "text/plain": [
       "<matplotlib.image.AxesImage at 0x7f004136d6d8>"
      ]
     },
     "execution_count": 138,
     "metadata": {},
     "output_type": "execute_result"
    },
    {
     "data": {
      "image/png": "[encoded data removed]",
      "text/plain": [
       "<Figure size 432x288 with 1 Axes>"
      ]
     },
     "metadata": {
      "needs_background": "light"
     },
     "output_type": "display_data"
    }
   ],
   "source": [
    "slicenum = 50\n",
    "#plt.imshow(result[ :, :, slicenum, 0], cmap='gray')\n",
    "#plt.imshow(np.concatenate([result[ :, :, slicenum, 0], testity[ :, :, slicenum, 0]], axis=-1), cmap='gray')\n",
    "plt.imshow(np.concatenate([testitx[ slicenum, :, :, 0], result[ slicenum,  :, :, 0], testity[ slicenum, :, :, 0]], axis=-1), cmap='gray')"
   ]
  },
  {
   "cell_type": "code",
   "execution_count": 31,
   "metadata": {},
   "outputs": [
    {
     "name": "stdout",
     "output_type": "stream",
     "text": [
      "(400, 224, 160)\n"
     ]
    }
   ],
   "source": [
    "h         = {}\n",
    "h['deep'] = result1.astype('single')\n",
    "print(result1.shape)\n",
    "savemat('/media/dril/ubuntudata/DBT-NEW/deeplearning_output/'+str(153)+'_1.mat', h, do_compression=True)"
   ]
  },
  {
   "cell_type": "code",
   "execution_count": 12,
   "metadata": {},
   "outputs": [
    {
     "name": "stdout",
     "output_type": "stream",
     "text": [
      "(400, 224, 160) (400, 224, 160)\n"
     ]
    }
   ],
   "source": [
    "a       = loadmat('/media/dril/ubuntudata/DBT-NEW/attenuation_values_cropped/153.mat')\n",
    "a       = a['head']\n",
    "a       = ndimage.zoom(a, 0.5, order=1).astype(np.single)\n",
    "result1 = ndimage.zoom(final_result2[:, :, :], 4, order=0).astype(np.single)\n",
    "\n",
    "print(a.shape, result1.shape)"
   ]
  },
  {
   "cell_type": "code",
   "execution_count": null,
   "metadata": {},
   "outputs": [],
   "source": []
  },
  {
   "cell_type": "code",
   "execution_count": 29,
   "metadata": {},
   "outputs": [
    {
     "data": {
      "text/plain": [
       "<matplotlib.image.AxesImage at 0x7f31c01cfb00>"
      ]
     },
     "execution_count": 29,
     "metadata": {},
     "output_type": "execute_result"
    },
    {
     "data": {
      "image/png": "[encoded data removed]",
      "text/plain": [
       "<Figure size 432x288 with 1 Axes>"
      ]
     },
     "metadata": {
      "needs_background": "light"
     },
     "output_type": "display_data"
    }
   ],
   "source": [
    "plt.imshow(result1[:, :, 61], cmap='gray')"
   ]
  },
  {
   "cell_type": "code",
   "execution_count": 30,
   "metadata": {},
   "outputs": [
    {
     "data": {
      "text/plain": [
       "(array([9.761720e+06, 3.956000e+04, 3.475364e+06, 5.981560e+05,\n",
       "        2.362000e+05, 1.002920e+05, 6.330000e+04, 4.052800e+04,\n",
       "        1.742400e+04, 3.456000e+03]),\n",
       " array([0.        , 0.20226216, 0.40452433, 0.6067865 , 0.80904865,\n",
       "        1.0113108 , 1.213573  , 1.4158351 , 1.6180973 , 1.8203595 ,\n",
       "        2.0226216 ], dtype=float32),\n",
       " <a list of 10 Patch objects>)"
      ]
     },
     "execution_count": 30,
     "metadata": {},
     "output_type": "execute_result"
    },
    {
     "data": {
      "image/png": "[encoded data removed]",
      "text/plain": [
       "<Figure size 432x288 with 1 Axes>"
      ]
     },
     "metadata": {
      "needs_background": "light"
     },
     "output_type": "display_data"
    }
   ],
   "source": [
    "plt.hist(result1.flatten())"
   ]
  },
  {
   "cell_type": "code",
   "execution_count": 142,
   "metadata": {},
   "outputs": [
    {
     "data": {
      "text/plain": [
       "(array([9.80866e+06, 1.12800e+04, 2.17210e+04, 5.18000e+03, 5.11500e+03,\n",
       "        2.82955e+06, 4.16040e+05, 2.06662e+05, 7.18750e+05, 3.13042e+05]),\n",
       " array([0.        , 0.08951333, 0.17902666, 0.26854   , 0.35805333,\n",
       "        0.44756666, 0.53708   , 0.62659335, 0.71610665, 0.80561996,\n",
       "        0.8951333 ], dtype=float32),\n",
       " <a list of 10 Patch objects>)"
      ]
     },
     "execution_count": 142,
     "metadata": {},
     "output_type": "execute_result"
    },
    {
     "data": {
      "image/png": "[encoded data removed]",
      "text/plain": [
       "<Figure size 432x288 with 1 Axes>"
      ]
     },
     "metadata": {
      "needs_background": "light"
     },
     "output_type": "display_data"
    }
   ],
   "source": [
    "plt.hist(a.flatten())"
   ]
  },
  {
   "cell_type": "code",
   "execution_count": 144,
   "metadata": {},
   "outputs": [
    {
     "data": {
      "text/plain": [
       "(array([1.55636e+05, 4.40000e+01, 3.60000e+01, 4.70000e+01, 4.65190e+04,\n",
       "        4.60100e+03, 4.45000e+03, 9.18900e+03, 2.95100e+03, 5.27000e+02]),\n",
       " array([0.        , 0.10038105, 0.20076211, 0.30114317, 0.40152422,\n",
       "        0.50190526, 0.60228634, 0.70266736, 0.80304843, 0.90342945,\n",
       "        1.0038105 ], dtype=float32),\n",
       " <a list of 10 Patch objects>)"
      ]
     },
     "execution_count": 144,
     "metadata": {},
     "output_type": "execute_result"
    },
    {
     "data": {
      "image/png": "[encoded data removed]",
      "text/plain": [
       "<Figure size 432x288 with 1 Axes>"
      ]
     },
     "metadata": {
      "needs_background": "light"
     },
     "output_type": "display_data"
    }
   ],
   "source": [
    "plt.hist(result.flatten())"
   ]
  },
  {
   "cell_type": "code",
   "execution_count": 95,
   "metadata": {},
   "outputs": [
    {
     "data": {
      "text/plain": [
       "(array([1.093e+03, 1.000e+00, 2.000e+00, 1.000e+00, 5.300e+02, 1.510e+02,\n",
       "        7.000e+01, 1.060e+02, 2.330e+02, 5.300e+01]),\n",
       " array([0.        , 0.09454098, 0.18908197, 0.28362295, 0.37816393,\n",
       "        0.47270492, 0.5672459 , 0.6617869 , 0.75632787, 0.8508688 ,\n",
       "        0.94540983], dtype=float32),\n",
       " <a list of 10 Patch objects>)"
      ]
     },
     "execution_count": 95,
     "metadata": {},
     "output_type": "execute_result"
    },
    {
     "data": {
      "image/png": "[encoded data removed]",
      "text/plain": [
       "<Figure size 432x288 with 1 Axes>"
      ]
     },
     "metadata": {
      "needs_background": "light"
     },
     "output_type": "display_data"
    }
   ],
   "source": [
    "plt.hist(testity[ slicenum, :, :, 0].flatten())"
   ]
  },
  {
   "cell_type": "code",
   "execution_count": 89,
   "metadata": {},
   "outputs": [
    {
     "data": {
      "text/plain": [
       "<matplotlib.image.AxesImage at 0x7f29dc4b64e0>"
      ]
     },
     "execution_count": 89,
     "metadata": {},
     "output_type": "execute_result"
    },
    {
     "data": {
      "image/png": "[encoded data removed]",
      "text/plain": [
       "<Figure size 432x288 with 1 Axes>"
      ]
     },
     "metadata": {
      "needs_background": "light"
     },
     "output_type": "display_data"
    }
   ],
   "source": [
    "#index = random.randint(0, 35)\n",
    "#print(index)\n",
    "slicenum = 38\n",
    "#plt.imshow(np.concatenate([result[index, :, :, slicenum, 0], valx[index, :, :, slicenum, 0], valy[index, :, :, slicenum, 0]], axis=-1), cmap='gray')\n",
    "plt.imshow(np.concatenate([result[index, :, :, slicenum, 0], valx[index, :, :, slicenum, 0], valy[index, :, :, slicenum, 0]], axis=-1), cmap='gray')"
   ]
  },
  {
   "cell_type": "code",
   "execution_count": 90,
   "metadata": {},
   "outputs": [
    {
     "data": {
      "text/plain": [
       "<matplotlib.image.AxesImage at 0x7f29dc419550>"
      ]
     },
     "execution_count": 90,
     "metadata": {},
     "output_type": "execute_result"
    },
    {
     "data": {
      "image/png": "[encoded data removed]",
      "text/plain": [
       "<Figure size 432x288 with 1 Axes>"
      ]
     },
     "metadata": {
      "needs_background": "light"
     },
     "output_type": "display_data"
    }
   ],
   "source": [
    "plt.imshow(np.concatenate([result1[index, :, :, slicenum, 0], valx[index, :, :, slicenum, 0], valy[index, :, :, slicenum, 0]], axis=-1), cmap='gray')"
   ]
  },
  {
   "cell_type": "code",
   "execution_count": 56,
   "metadata": {},
   "outputs": [
    {
     "data": {
      "text/plain": [
       "<matplotlib.image.AxesImage at 0x7f8cd4188320>"
      ]
     },
     "execution_count": 56,
     "metadata": {},
     "output_type": "execute_result"
    },
    {
     "data": {
      "image/png": "[encoded data removed]",
      "text/plain": [
       "<Figure size 432x288 with 1 Axes>"
      ]
     },
     "metadata": {
      "needs_background": "light"
     },
     "output_type": "display_data"
    }
   ],
   "source": [
    "index = random.randint(0, 35)\n",
    "print(index)\n",
    "plt.imshow(np.concatenate([result[index, :, :, 20, 0], valx[index, :, :, 20, 0], valy[index, :, :, 20, 0]], axis=-1), cmap='gray')"
   ]
  },
  {
   "cell_type": "code",
   "execution_count": 73,
   "metadata": {},
   "outputs": [
    {
     "data": {
      "text/plain": [
       "<matplotlib.image.AxesImage at 0x7f8ca8296860>"
      ]
     },
     "execution_count": 73,
     "metadata": {},
     "output_type": "execute_result"
    },
    {
     "data": {
      "image/png": "[encoded data removed]",
      "text/plain": [
       "<Figure size 432x288 with 1 Axes>"
      ]
     },
     "metadata": {
      "needs_background": "light"
     },
     "output_type": "display_data"
    }
   ],
   "source": [
    "index = random.randint(0, 35)\n",
    "plt.imshow(np.concatenate([result[index, 50, :, :, 0], valx[index, 50, :, :, 0], valy[index, 50, :, :, 0]], axis=-1), cmap='gray')"
   ]
  }
 ],
 "metadata": {
  "kernelspec": {
   "display_name": "Python 3",
   "language": "python",
   "name": "python3"
  },
  "language_info": {
   "codemirror_mode": {
    "name": "ipython",
    "version": 3
   },
   "file_extension": ".py",
   "mimetype": "text/x-python",
   "name": "python",
   "nbconvert_exporter": "python",
   "pygments_lexer": "ipython3",
   "version": "3.6.8"
  }
 },
 "nbformat": 4,
 "nbformat_minor": 2
}
